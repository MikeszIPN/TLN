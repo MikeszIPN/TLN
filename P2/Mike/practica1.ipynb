{
 "cells": [
  {
   "cell_type": "code",
   "execution_count": 1,
   "metadata": {},
   "outputs": [
    {
     "ename": "ModuleNotFoundError",
     "evalue": "No module named 'gensim'",
     "output_type": "error",
     "traceback": [
      "\u001b[1;31m---------------------------------------------------------------------------\u001b[0m",
      "\u001b[1;31mModuleNotFoundError\u001b[0m                       Traceback (most recent call last)",
      "\u001b[1;32mc:\\Users\\SZMik\\OneDrive\\Dokumente\\Mike\\VisualStudio\\TLN\\P2\\Mike\\practica1.ipynb Celda 1\u001b[0m line \u001b[0;36m1\n\u001b[1;32m----> <a href='vscode-notebook-cell:/c%3A/Users/SZMik/OneDrive/Dokumente/Mike/VisualStudio/TLN/P2/Mike/practica1.ipynb#W0sZmlsZQ%3D%3D?line=0'>1</a>\u001b[0m \u001b[39mfrom\u001b[39;00m \u001b[39mgensim\u001b[39;00m\u001b[39m.\u001b[39;00m\u001b[39mmodels\u001b[39;00m \u001b[39mimport\u001b[39;00m Word2Vec\n\u001b[0;32m      <a href='vscode-notebook-cell:/c%3A/Users/SZMik/OneDrive/Dokumente/Mike/VisualStudio/TLN/P2/Mike/practica1.ipynb#W0sZmlsZQ%3D%3D?line=1'>2</a>\u001b[0m \u001b[39m# Corpus de ejemplo\u001b[39;00m\n\u001b[0;32m      <a href='vscode-notebook-cell:/c%3A/Users/SZMik/OneDrive/Dokumente/Mike/VisualStudio/TLN/P2/Mike/practica1.ipynb#W0sZmlsZQ%3D%3D?line=2'>3</a>\u001b[0m corpus \u001b[39m=\u001b[39m [\n\u001b[0;32m      <a href='vscode-notebook-cell:/c%3A/Users/SZMik/OneDrive/Dokumente/Mike/VisualStudio/TLN/P2/Mike/practica1.ipynb#W0sZmlsZQ%3D%3D?line=3'>4</a>\u001b[0m \n\u001b[0;32m      <a href='vscode-notebook-cell:/c%3A/Users/SZMik/OneDrive/Dokumente/Mike/VisualStudio/TLN/P2/Mike/practica1.ipynb#W0sZmlsZQ%3D%3D?line=4'>5</a>\u001b[0m \u001b[39m\"\u001b[39m\u001b[39mEl gato duerme en el sofá.\u001b[39m\u001b[39m\"\u001b[39m,\n\u001b[1;32m   (...)\u001b[0m\n\u001b[0;32m      <a href='vscode-notebook-cell:/c%3A/Users/SZMik/OneDrive/Dokumente/Mike/VisualStudio/TLN/P2/Mike/practica1.ipynb#W0sZmlsZQ%3D%3D?line=8'>9</a>\u001b[0m \u001b[39m\"\u001b[39m\u001b[39mUn río fluye entre las montañas.\u001b[39m\u001b[39m\"\u001b[39m\n\u001b[0;32m     <a href='vscode-notebook-cell:/c%3A/Users/SZMik/OneDrive/Dokumente/Mike/VisualStudio/TLN/P2/Mike/practica1.ipynb#W0sZmlsZQ%3D%3D?line=9'>10</a>\u001b[0m ]\n",
      "\u001b[1;31mModuleNotFoundError\u001b[0m: No module named 'gensim'"
     ]
    }
   ],
   "source": [
    "from gensim.models import Word2Vec\n",
    "# Corpus de ejemplo\n",
    "corpus = [\n",
    "\n",
    "\"El gato duerme en el sofá.\",\n",
    "\"Los pájaros cantan en el jardín.\", \n",
    "\"El sol brilla en un cielo despejado.\", \n",
    "\"Los niños juegan en el parque.\",\n",
    "\"Un río fluye entre las montañas.\"\n",
    "]\n",
    "\n",
    "tokens = [sentence.split() for sentence in corpus]\n",
    "\n",
    "model = Word2Vec(tokens, vector_size=100, window=5, min_count=1, sg=0)\n",
    "similar_words = model.wv.most_similar('gato')\n",
    "print(\"Palabras similares a 'gato':\", similar_words)\n",
    "\n",
    "result = model.wv.most_similar(positive=['gato', 'pájaros'], negative=['niños'])\n",
    "print(\"Plabra resultante de la operacion: \",result[0][0])"
   ]
  },
  {
   "cell_type": "markdown",
   "metadata": {},
   "source": [
    "Tamaño del vector: 50"
   ]
  },
  {
   "cell_type": "code",
   "execution_count": null,
   "metadata": {},
   "outputs": [
    {
     "name": "stdout",
     "output_type": "stream",
     "text": [
      "Palabras similares a 'gato': [('un', 0.3065578043460846), ('juegan', 0.27047690749168396), ('cantan', 0.22442302107810974), ('brilla', 0.20485369861125946), ('sol', 0.19775445759296417), ('duerme', 0.18339458107948303), ('las', 0.10232102125883102), ('montañas.', 0.10159843415021896), ('cielo', 0.08190787583589554), ('Un', 0.03634032607078552)]\n"
     ]
    }
   ],
   "source": [
    "model = Word2Vec(tokens, vector_size=50, window=5, min_count=1, sg=0)\n",
    "similar_words = model.wv.most_similar('gato')\n",
    "print(\"Palabras similares a 'gato':\", similar_words)"
   ]
  },
  {
   "cell_type": "markdown",
   "metadata": {},
   "source": [
    "Tamaño del vecto: 25"
   ]
  },
  {
   "cell_type": "code",
   "execution_count": null,
   "metadata": {},
   "outputs": [
    {
     "name": "stdout",
     "output_type": "stream",
     "text": [
      "Palabras similares a 'gato': [('fluye', 0.4655188322067261), ('brilla', 0.3729495704174042), ('juegan', 0.32363539934158325), ('entre', 0.11124419420957565), ('cantan', 0.10620046406984329), ('un', 0.06023126840591431), ('pájaros', 0.03816595301032066), ('duerme', 0.024350706487894058), ('cielo', -0.0661315843462944), ('sol', -0.06926047801971436)]\n"
     ]
    }
   ],
   "source": [
    "model = Word2Vec(tokens, vector_size=25, window=5, min_count=1, sg=0)\n",
    "similar_words = model.wv.most_similar('gato')\n",
    "print(\"Palabras similares a 'gato':\", similar_words)"
   ]
  },
  {
   "cell_type": "markdown",
   "metadata": {},
   "source": [
    "Tamaño del vector: 3"
   ]
  },
  {
   "cell_type": "code",
   "execution_count": null,
   "metadata": {},
   "outputs": [
    {
     "name": "stdout",
     "output_type": "stream",
     "text": [
      "Palabras similares a 'gato': [('Los', 0.889004111289978), ('las', 0.6732196807861328), ('entre', 0.6698194146156311), ('brilla', 0.5481172800064087), ('jardín.', 0.4734134078025818), ('fluye', 0.41469165682792664), ('en', 0.369144469499588), ('sofá.', 0.36555516719818115), ('Un', 0.2662862241268158), ('El', 0.21177862584590912)]\n"
     ]
    }
   ],
   "source": [
    "model = Word2Vec(tokens, vector_size=3, window=5, min_count=1, sg=0)\n",
    "similar_words = model.wv.most_similar('gato')\n",
    "print(\"Palabras similares a 'gato':\", similar_words)"
   ]
  },
  {
   "cell_type": "markdown",
   "metadata": {},
   "source": [
    "Cuando medificamos el vector_size, modificamos la cantidad de informacion que se alamacena en cada vector, cuando reducimos la cantidad de este vector, podemos observar que la semantica y las realciones entre las palabras sera menos preciso, es decir, estamos perdiendo informacion. \n",
    "\n",
    "Con el vector de 50, aun podemos observar relaciones que aun tienen sentido, como \"un\" o \"juegan\" donde tiene coherencia. Comparandolo con el vector de 25, observamos que las palabras que encabezan son \"fluye\" o \"brilla\" donde es mas complicado darles el sentido, observamos que la calidad de los resultados cada vez es mas deficiente. Por ultimo tenemos el vector de 3, donde los resultados ya son mas deficientes"
   ]
  },
  {
   "cell_type": "code",
   "execution_count": null,
   "metadata": {},
   "outputs": [
    {
     "name": "stdout",
     "output_type": "stream",
     "text": [
      "Tamaño del vector: 50\n",
      "Palabras similares a 'juegan': [('gato', 0.27047690749168396), ('duerme', 0.20483413338661194), ('sofá.', 0.16624975204467773), ('jardín.', 0.16492940485477448), ('sol', 0.06960002332925797), ('Un', 0.06329163908958435), ('un', 0.060982946306467056), ('niños', 0.05484416335821152), ('pájaros', 0.050771307200193405), ('en', 0.04976389557123184)]\n",
      "Palabras similares a 'fluye': [('parque.', 0.20415300130844116), ('pájaros', 0.11235636472702026), ('Un', 0.07461831718683243), ('un', 0.07415318489074707), ('niños', 0.05821980908513069), ('el', 0.05542055517435074), ('despejado.', 0.050474002957344055), ('jardín.', 0.010972009971737862), ('gato', 0.006466518621891737), ('juegan', 0.003929209895431995)]\n",
      "Palabras similares a 'montañas.': [('Los', 0.19014737010002136), ('cielo', 0.18857939541339874), ('sol', 0.17443622648715973), ('brilla', 0.14239051938056946), ('sofá.', 0.11519220471382141), ('gato', 0.10159842669963837), ('el', 0.08061248809099197), ('en', 0.04082181677222252), ('río', 0.024970438331365585), ('parque.', 0.0003886251070071012)]\n",
      "\n",
      "\n",
      "Tamaño del vector: 25\n",
      "Palabras similares a 'juegan': [('duerme', 0.3679470121860504), ('brilla', 0.365601122379303), ('río', 0.3294663727283478), ('gato', 0.32363536953926086), ('niños', 0.16070237755775452), ('cantan', 0.1589970886707306), ('despejado.', 0.14783139526844025), ('fluye', 0.1322120726108551), ('sol', 0.021572327241301537), ('el', -0.015969062224030495)]\n",
      "Palabras similares a 'fluye': [('gato', 0.4655188024044037), ('jardín.', 0.18891888856887817), ('niños', 0.14491423964500427), ('juegan', 0.1322120726108551), ('cantan', 0.0890144631266594), ('montañas.', 0.08347512781620026), ('pájaros', 0.07221435010433197), ('El', 0.036350518465042114), ('un', 0.02652539312839508), ('brilla', 0.012853818014264107)]\n",
      "Palabras similares a 'montañas.': [('río', 0.2756118178367615), ('Los', 0.2530030608177185), ('un', 0.24930287897586823), ('el', 0.24890561401844025), ('cielo', 0.24474412202835083), ('despejado.', 0.13377892971038818), ('entre', 0.11396908015012741), ('las', 0.1117158830165863), ('jardín.', 0.10631272941827774), ('fluye', 0.08347512781620026)]\n",
      "\n",
      "\n",
      "Tamaño del vector: 3\n",
      "Palabras similares a 'juegan': [('montañas.', 0.985562264919281), ('pájaros', 0.934207558631897), ('parque.', 0.9234066605567932), ('cantan', 0.8503434062004089), ('el', 0.8026590347290039), ('despejado.', 0.5051555037498474), ('un', 0.30838900804519653), ('duerme', 0.08780848234891891), ('en', 0.025597546249628067), ('sofá.', -0.08668377995491028)]\n",
      "Palabras similares a 'fluye': [('cielo', 0.9178044199943542), ('sol', 0.8451012372970581), ('jardín.', 0.8269910216331482), ('Un', 0.810853898525238), ('duerme', 0.8039509654045105), ('un', 0.6526169776916504), ('gato', 0.414691686630249), ('en', 0.3883558213710785), ('despejado.', 0.37208887934684753), ('Los', 0.202265202999115)]\n",
      "Palabras similares a 'montañas.': [('juegan', 0.9855621457099915), ('pájaros', 0.9810276627540588), ('parque.', 0.8965848684310913), ('cantan', 0.8850170969963074), ('el', 0.8618537187576294), ('despejado.', 0.3529178500175476), ('un', 0.1584918051958084), ('sofá.', 0.010705085471272469), ('El', -0.010579229332506657), ('duerme', -0.07243132591247559)]\n",
      "\n",
      "\n"
     ]
    }
   ],
   "source": [
    "for vector_size in [50, 25, 3]:\n",
    "    model = Word2Vec(tokens, vector_size=vector_size, window=5, min_count=1, sg=0)\n",
    "    \n",
    "    Palabras = [\"juegan\", \"fluye\", \"montañas.\"]\n",
    "    \n",
    "    print(f\"Tamaño del vector: {vector_size}\")\n",
    "    for word in Palabras:\n",
    "        similar_words = model.wv.most_similar(word)\n",
    "        print(f\"Palabras similares a '{word}': {similar_words}\")\n",
    "    print(\"\\n\")\n"
   ]
  },
  {
   "cell_type": "code",
   "execution_count": null,
   "metadata": {},
   "outputs": [
    {
     "name": "stdout",
     "output_type": "stream",
     "text": [
      "Plabra resultante de la operacion:  juegan\n"
     ]
    }
   ],
   "source": [
    "model = Word2Vec(tokens, vector_size=100, window=5, min_count=1, sg=0)\n",
    "\n",
    "result = model.wv.most_similar(positive=['brilla', 'cielo'], negative=['fluye'])\n",
    "print(\"Plabra resultante de la operacion: \",result[0][0])"
   ]
  },
  {
   "cell_type": "markdown",
   "metadata": {},
   "source": [
    "Considera el tamaño de vector 3 y realiza un espacio vectorial con todas las\n",
    "palabras."
   ]
  },
  {
   "cell_type": "code",
   "execution_count": null,
   "metadata": {},
   "outputs": [
    {
     "name": "stdout",
     "output_type": "stream",
     "text": [
      "Palabra resultante de la operación: Los\n"
     ]
    }
   ],
   "source": [
    "model = Word2Vec(tokens, vector_size=100, window=5, min_count=1, sg=0)\n",
    "\n",
    "result = model.wv.most_similar(positive=['gato', 'pájaros'], negative=['niños'])\n",
    "print(\"Palabra resultante de la operación:\", result[0][0])\n"
   ]
  }
 ],
 "metadata": {
  "kernelspec": {
   "display_name": "Python 3",
   "language": "python",
   "name": "python3"
  },
  "language_info": {
   "codemirror_mode": {
    "name": "ipython",
    "version": 3
   },
   "file_extension": ".py",
   "mimetype": "text/x-python",
   "name": "python",
   "nbconvert_exporter": "python",
   "pygments_lexer": "ipython3",
   "version": "3.11.6"
  }
 },
 "nbformat": 4,
 "nbformat_minor": 2
}
