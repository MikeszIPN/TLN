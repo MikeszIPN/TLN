{
 "cells": [
  {
   "cell_type": "code",
   "execution_count": 64,
   "metadata": {},
   "outputs": [],
   "source": [
    "# Corpus de ejemplo\n",
    "corpus = [\n",
    "\"con el corridon del angel azul a dios le pido perdon por los pecados corridon.\",\n",
    "\"pepe pecas pica papas con un pico pica papas\",\n",
    "\"bts tus patrones, bts es pro, bts tus patrones\"\n",
    "]"
   ]
  },
  {
   "cell_type": "code",
   "execution_count": 65,
   "metadata": {},
   "outputs": [
    {
     "name": "stdout",
     "output_type": "stream",
     "text": [
      "['con el corridon del angel azul a dios le pido perdon por los pecados corridon.', 'pepe pecas pica papas con un pico pica papas', 'bts tus patrones, bts es pro, bts tus patrones']\n"
     ]
    }
   ],
   "source": [
    "# paso 1. Tokenización\n",
    "palabras = []\n",
    "oraciones = []\n",
    "for oracion in corpus:\n",
    "     palabras.extend(oracion.lower().split())\n",
    "     oraciones.extend(oracion.lower().split(\". \"))\n",
    "\n",
    "\n",
    "print(oraciones)"
   ]
  },
  {
   "cell_type": "code",
   "execution_count": 66,
   "metadata": {},
   "outputs": [
    {
     "name": "stdout",
     "output_type": "stream",
     "text": [
      "{'pepe', 'pecas', 'dios', 'pro,', 'pica', 'le', 'del', 'pido', 'patrones,', 'papas', 'a', 'es', 'con', 'por', 'pecados', 'angel', 'pico', 'bts', 'un', 'los', 'corridon', 'azul', 'el', 'perdon', 'corridon.', 'tus', 'patrones'}\n"
     ]
    }
   ],
   "source": [
    "# paso 2. Crear un vocabulario\n",
    "vocabulario = set(palabras)\n",
    "\n",
    "print(vocabulario)"
   ]
  },
  {
   "cell_type": "code",
   "execution_count": 67,
   "metadata": {},
   "outputs": [],
   "source": [
    "# paso 3. Crear la representación de bolsa de palabras\n",
    "representaciones = []\n",
    "counter = {}\n",
    "for oracion in oraciones:\n",
    "     contador = {palabra: oracion.lower().split().count(palabra) for palabra in vocabulario}\n",
    "     representacion = [contador[palabra] for palabra in vocabulario]\n",
    "     representaciones.append(representacion)"
   ]
  },
  {
   "cell_type": "code",
   "execution_count": 73,
   "metadata": {},
   "outputs": [
    {
     "name": "stdout",
     "output_type": "stream",
     "text": [
      "Oración 1 : con el corridon del angel azul a dios le pido perdon por los pecados corridon.\n",
      "Representación de bolsa de palabras:  [0, 0, 1, 0, 0, 1, 1, 1, 0, 0, 1, 0, 1, 1, 1, 1, 0, 0, 0, 1, 1, 1, 1, 1, 1, 0, 0]\n",
      "\n",
      "Oración 2 : pepe pecas pica papas con un pico pica papas\n",
      "Representación de bolsa de palabras:  [1, 1, 0, 0, 2, 0, 0, 0, 0, 2, 0, 0, 1, 0, 0, 0, 1, 0, 1, 0, 0, 0, 0, 0, 0, 0, 0]\n",
      "\n",
      "Oración 3 : bts tus patrones, bts es pro, bts tus patrones\n",
      "Representación de bolsa de palabras:  [0, 0, 0, 1, 0, 0, 0, 0, 1, 0, 0, 1, 0, 0, 0, 0, 0, 3, 0, 0, 0, 0, 0, 0, 0, 2, 1]\n",
      "\n"
     ]
    }
   ],
   "source": [
    "# paso 4. Visualizar los resultados\n",
    "for i, oracion in enumerate(oraciones):\n",
    "     print(\"Oración\",i+1,\":\",oracion)\n",
    "     print(\"Representación de bolsa de palabras: \", representaciones[i])\n",
    "     print()"
   ]
  }
 ],
 "metadata": {
  "kernelspec": {
   "display_name": "Python 3",
   "language": "python",
   "name": "python3"
  },
  "language_info": {
   "codemirror_mode": {
    "name": "ipython",
    "version": 3
   },
   "file_extension": ".py",
   "mimetype": "text/x-python",
   "name": "python",
   "nbconvert_exporter": "python",
   "pygments_lexer": "ipython3",
   "version": "3.11.1"
  }
 },
 "nbformat": 4,
 "nbformat_minor": 2
}
