{
 "cells": [
  {
   "cell_type": "code",
   "execution_count": 49,
   "metadata": {},
   "outputs": [],
   "source": [
    "# Corpus de ejemplo\n",
    "corpus = [\n",
    "\"El gato duerme en el sofa.\",\n",
    "\"Los pajaros cantan en el jardin.\",\n",
    "\"El sol brilla en un cielo despejado.\",\n",
    "\"Los ninos juegan en el parque.\",\n",
    "\"Un río fluye entre las montañas.\"\n",
    "]"
   ]
  },
  {
   "cell_type": "code",
   "execution_count": 50,
   "metadata": {},
   "outputs": [
    {
     "name": "stdout",
     "output_type": "stream",
     "text": [
      "['el gato duerme en el sofa.', 'los pajaros cantan en el jardin.', 'el sol brilla en un cielo despejado.', 'los ninos juegan en el parque.', 'un río fluye entre las montañas.']\n"
     ]
    }
   ],
   "source": [
    "# paso 1. Tokenización\n",
    "palabras = []\n",
    "oraciones = []\n",
    "for oracion in corpus:\n",
    "     palabras.extend(oracion.lower().split())\n",
    "     oraciones.extend(oracion.lower().split(\". \"))\n",
    "\n",
    "\n",
    "print(oraciones)"
   ]
  },
  {
   "cell_type": "code",
   "execution_count": 51,
   "metadata": {},
   "outputs": [
    {
     "name": "stdout",
     "output_type": "stream",
     "text": [
      "{'cielo', 'las', 'en', 'duerme', 'despejado.', 'fluye', 'juegan', 'sofa.', 'montañas.', 'pajaros', 'sol', 'brilla', 'gato', 'un', 'los', 'río', 'el', 'entre', 'cantan', 'jardin.', 'ninos', 'parque.'}\n"
     ]
    }
   ],
   "source": [
    "# paso 2. Crear un vocabulario\n",
    "vocabulario = set(palabras)\n",
    "\n",
    "print(vocabulario)"
   ]
  },
  {
   "cell_type": "code",
   "execution_count": 52,
   "metadata": {},
   "outputs": [],
   "source": [
    "# paso 3. Crear la representación de bolsa de palabras\n",
    "representaciones = []\n",
    "counter = {}\n",
    "for oracion in oraciones:\n",
    "     contador = {palabra: oracion.lower().split().count(palabra) for palabra in vocabulario}\n",
    "     representacion = [contador[palabra] for palabra in vocabulario]\n",
    "     representaciones.append(representacion)"
   ]
  },
  {
   "cell_type": "code",
   "execution_count": 53,
   "metadata": {},
   "outputs": [
    {
     "name": "stdout",
     "output_type": "stream",
     "text": [
      "Oración 1 : el gato duerme en el sofa.\n",
      "Representación de bolsa de palabras:  [0, 0, 1, 1, 0, 0, 0, 1, 0, 0, 0, 0, 1, 0, 0, 0, 2, 0, 0, 0, 0, 0]\n",
      "\n",
      "Oración 2 : los pajaros cantan en el jardin.\n",
      "Representación de bolsa de palabras:  [0, 0, 1, 0, 0, 0, 0, 0, 0, 1, 0, 0, 0, 0, 1, 0, 1, 0, 1, 1, 0, 0]\n",
      "\n",
      "Oración 3 : el sol brilla en un cielo despejado.\n",
      "Representación de bolsa de palabras:  [1, 0, 1, 0, 1, 0, 0, 0, 0, 0, 1, 1, 0, 1, 0, 0, 1, 0, 0, 0, 0, 0]\n",
      "\n",
      "Oración 4 : los ninos juegan en el parque.\n",
      "Representación de bolsa de palabras:  [0, 0, 1, 0, 0, 0, 1, 0, 0, 0, 0, 0, 0, 0, 1, 0, 1, 0, 0, 0, 1, 1]\n",
      "\n",
      "Oración 5 : un río fluye entre las montañas.\n",
      "Representación de bolsa de palabras:  [0, 1, 0, 0, 0, 1, 0, 0, 1, 0, 0, 0, 0, 1, 0, 1, 0, 1, 0, 0, 0, 0]\n",
      "\n"
     ]
    }
   ],
   "source": [
    "# paso 4. Visualizar los resultados\n",
    "for i, oracion in enumerate(oraciones):\n",
    "     print(\"Oración\",i+1,\":\",oracion)\n",
    "     print(\"Representación de bolsa de palabras: \", representaciones[i])\n",
    "     print()"
   ]
  }
 ],
 "metadata": {
  "kernelspec": {
   "display_name": "Python 3",
   "language": "python",
   "name": "python3"
  },
  "language_info": {
   "codemirror_mode": {
    "name": "ipython",
    "version": 3
   },
   "file_extension": ".py",
   "mimetype": "text/x-python",
   "name": "python",
   "nbconvert_exporter": "python",
   "pygments_lexer": "ipython3",
   "version": "3.11.1"
  }
 },
 "nbformat": 4,
 "nbformat_minor": 2
}
