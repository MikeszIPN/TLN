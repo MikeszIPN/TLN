{
 "cells": [
  {
   "cell_type": "code",
   "execution_count": 14,
   "metadata": {},
   "outputs": [
    {
     "name": "stdout",
     "output_type": "stream",
     "text": [
      "['Hola', 'me', 'llamo', 'miguel', 'estudio', 'a', 'veces', 'si', 'jeje', 'ya', 'funciono', 'que', 'loco']\n"
     ]
    }
   ],
   "source": [
    "texto = 'Hola me llamo miguel, ¿estudio? a. ¡veces si! jeje, ya funciono! que loco?'\n",
    "\n",
    "caracteres = [' ','?',\"¿\",\".\",\"!\",\",\",\"¡\"]\n",
    "palabras = []\n",
    "\n",
    "inicio = 0\n",
    "final = 0\n",
    "\n",
    "for i in texto:\n",
    "    final = final+1\n",
    "    for j in range(len(caracteres)):\n",
    "        \n",
    "        if i == caracteres[j]:\n",
    "            \n",
    "            palabras.append(texto[inicio:final-1])\n",
    "            \n",
    "            if palabras[(len(palabras))-1] == '':\n",
    "                palabras.remove('')\n",
    "            \n",
    "            inicio = final\n",
    "            break\n",
    "\n",
    "print(palabras)"
   ]
  },
  {
   "cell_type": "code",
   "execution_count": 15,
   "metadata": {},
   "outputs": [
    {
     "name": "stdout",
     "output_type": "stream",
     "text": [
      "None\n"
     ]
    }
   ],
   "source": [
    "#Parte Vale\n",
    "# infinitivo: ar, er, ir\n",
    "# pasado simple: vocaes con acento y on \n",
    "def infinitivo(palabras):\n",
    "     infinitivo = [\"ar\", \"er\", \"ir\"]\n",
    "\n",
    "     for i in palabras:  # recorre el arreglo de las palabras\n",
    "          for j in infinitivo:     # recorre el arreglo de los infinitivos\n",
    "               if len(i) >= len(j) and i[-len(j):] == j:    # verifica que las ultimas letras sean las mismas que las del infinitivo\n",
    "                    return \"La raíz es \" + i[:-len(j)] + \" y es un infinitivo\"  # imprime las letras excepto las del infinitivo\n",
    "               else:\n",
    "                    return \"Esta palabra no es un infinitivo\"\n",
    "print(infinitivo(palabras))"
   ]
  },
  {
   "cell_type": "code",
   "execution_count": null,
   "metadata": {},
   "outputs": [],
   "source": [
    "#V1"
   ]
  },
  {
   "cell_type": "code",
   "execution_count": null,
   "metadata": {},
   "outputs": [],
   "source": [
    "#V2"
   ]
  },
  {
   "cell_type": "code",
   "execution_count": null,
   "metadata": {},
   "outputs": [],
   "source": [
    "#V3"
   ]
  },
  {
   "cell_type": "code",
   "execution_count": null,
   "metadata": {},
   "outputs": [],
   "source": [
    "#V4"
   ]
  },
  {
   "cell_type": "code",
   "execution_count": null,
   "metadata": {},
   "outputs": [],
   "source": [
    "#V5"
   ]
  },
  {
   "cell_type": "code",
   "execution_count": null,
   "metadata": {},
   "outputs": [],
   "source": [
    "#Parte Navil"
   ]
  },
  {
   "cell_type": "code",
   "execution_count": null,
   "metadata": {},
   "outputs": [],
   "source": [
    "#N1"
   ]
  },
  {
   "cell_type": "code",
   "execution_count": null,
   "metadata": {},
   "outputs": [],
   "source": [
    "#N2"
   ]
  },
  {
   "cell_type": "code",
   "execution_count": null,
   "metadata": {},
   "outputs": [],
   "source": [
    "#N3"
   ]
  },
  {
   "cell_type": "code",
   "execution_count": null,
   "metadata": {},
   "outputs": [],
   "source": [
    "#N4"
   ]
  },
  {
   "cell_type": "code",
   "execution_count": null,
   "metadata": {},
   "outputs": [],
   "source": [
    "#N5"
   ]
  }
 ],
 "metadata": {
  "kernelspec": {
   "display_name": "Python 3",
   "language": "python",
   "name": "python3"
  },
  "language_info": {
   "codemirror_mode": {
    "name": "ipython",
    "version": 3
   },
   "file_extension": ".py",
   "mimetype": "text/x-python",
   "name": "python",
   "nbconvert_exporter": "python",
   "pygments_lexer": "ipython3",
   "version": "3.11.1"
  },
  "orig_nbformat": 4
 },
 "nbformat": 4,
 "nbformat_minor": 2
}
