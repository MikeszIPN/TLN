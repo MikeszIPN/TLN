{
 "cells": [
  {
   "cell_type": "code",
   "execution_count": 81,
   "metadata": {},
   "outputs": [
    {
     "name": "stdout",
     "output_type": "stream",
     "text": [
      "['José', 'correr', 'comió', 'gatito']\n"
     ]
    }
   ],
   "source": [
    "#### Tokenizacion de palabras y eliminacion de simbolos no deseados\n",
    "\n",
    "# Entrada\n",
    "texto = 'José correr comió gatito.'\n",
    "\n",
    "# Simbolos no deseados\n",
    "caracteres = [' ','?',\"¿\",\".\",\"!\",\",\",\"¡\"]\n",
    "mayusculas = ['A','B','C','D','E','F','G','H','I','J','K','L','M','N','Ñ','O','P','Q','R','S','T','U','V','W','X','Y','Z']\n",
    "\n",
    "# Lista en la que se guardaran las palabras de la oracion\n",
    "palabras = []\n",
    "\n",
    "# Variables de control para inicio y fin de la palabra\n",
    "inicio = 0\n",
    "final = 0\n",
    "\n",
    "# Recorre todas las letras de la oracion\n",
    "for i in texto:\n",
    "    \n",
    "    # Aumenta el valor de la posicion final de la palabra\n",
    "    final = final+1\n",
    "    \n",
    "    # Recorre los elementos de los caracteres no validos\n",
    "    for j in range(len(caracteres)):\n",
    "        \n",
    "        # Si el valor en el texto es igual a un caracter no valido\n",
    "        if i == caracteres[j]:\n",
    "            \n",
    "            # En la lista se ingresa la palabra (desde inicio a final de caracteres que la componen)\n",
    "            palabras.append(texto[inicio:final-1])\n",
    "            \n",
    "            # Si el elemento que se ingreso en la lista es un espacio vacio, se elimina\n",
    "            if palabras[(len(palabras))-1] == '':\n",
    "                palabras.remove('')\n",
    "            \n",
    "            # Se asigna nuevo inicio de palabra\n",
    "            inicio = final\n",
    "            \n",
    "            break # Deja de iterar en los caracteres no validos porque ya se encontro uno\n",
    "\n",
    "# Imprime lista de palabras\n",
    "print(palabras)\n",
    "\n",
    "#SISISISISINonon"
   ]
  },
  {
   "cell_type": "code",
   "execution_count": 82,
   "metadata": {},
   "outputs": [
    {
     "name": "stdout",
     "output_type": "stream",
     "text": [
      "Esta palabra no es un infinitivo.\n",
      "La raíz es corr y es un infinitivo.\n",
      "Esta palabra no es un infinitivo.\n",
      "Esta palabra no es un infinitivo.\n"
     ]
    }
   ],
   "source": [
    "# infinitivo: ar, er, ir\n",
    "def infinitivo(palabra):\n",
    "     infinitivo = [\"ar\", \"er\", \"ir\"]\n",
    "\n",
    "     #for i in palabras:  # recorre el arreglo de las palabras\n",
    "     for inf in infinitivo:     # recorre el arreglo de los infinitivos\n",
    "          if len(palabra) >= len(inf) and palabra[-len(inf):] == inf:    # verifica que las ultimas letras sean las mismas que las del infinitivo\n",
    "               return \"La raíz es \" + palabra[:-len(inf)] + \" y es un infinitivo.\"  # imprime las letras excepto las del infinitivo\n",
    "     return \"Esta palabra no es un infinitivo.\"   \n",
    "\n",
    "for i in palabras:\n",
    "     print(infinitivo(i))"
   ]
  },
  {
   "cell_type": "code",
   "execution_count": 83,
   "metadata": {},
   "outputs": [
    {
     "name": "stdout",
     "output_type": "stream",
     "text": [
      "Esta palabra no está en pasado simple.\n",
      "Esta palabra no está en pasado simple.\n",
      "La raíz es comi y está en tiempo pasado simple.\n",
      "Esta palabra no está en pasado simple.\n"
     ]
    }
   ],
   "source": [
    "# pasado simple: vocales con acento y on \n",
    "# para 1 y 3 persona\n",
    "def pasadoSimple(palabra):\n",
    "     pasado = ['á','é','í','ó','ú','ón']\n",
    "\n",
    "     #for i in palabras:  # recorre el arreglo de las palabras\n",
    "     for pas in pasado:     # recorre el arreglo de los infinitivos\n",
    "          for mayus in mayusculas:\n",
    "               if(palabra[0] == mayus):\n",
    "                    return \"Esta palabra no está en pasado simple.\"    \n",
    "          if len(palabra) >= len(pas) and palabra[-len(pas):] == pas :    # verifica que las ultimas letras sean las mismas que las del infinitivo\n",
    "               return \"La raíz es \" + palabra[:-len(pas)] + \" y está en tiempo pasado simple.\"  # imprime las letras excepto las del infinitivo\n",
    "     return \"Esta palabra no está en pasado simple.\"    \n",
    "\n",
    "for i in palabras:\n",
    "     print(pasadoSimple(i))"
   ]
  },
  {
   "cell_type": "code",
   "execution_count": 84,
   "metadata": {},
   "outputs": [],
   "source": [
    "#V2"
   ]
  },
  {
   "cell_type": "code",
   "execution_count": 85,
   "metadata": {},
   "outputs": [],
   "source": [
    "#V3"
   ]
  },
  {
   "cell_type": "code",
   "execution_count": 86,
   "metadata": {},
   "outputs": [],
   "source": [
    "#V4"
   ]
  },
  {
   "cell_type": "code",
   "execution_count": 87,
   "metadata": {},
   "outputs": [],
   "source": [
    "#V5"
   ]
  },
  {
   "cell_type": "code",
   "execution_count": 88,
   "metadata": {},
   "outputs": [],
   "source": [
    "#Parte Navil\n",
    "def plural_genero(palabra):\n",
    "    palabra_completa = palabra\n",
    "    genero = ''\n",
    "    plural = 0\n",
    "    if(palabra[-1] == 's'):\n",
    "        palabra = palabra[:-1]\n",
    "        plural = 1\n",
    "    if(palabra[-1] == 'o'):\n",
    "        palabra = palabra[:-1]\n",
    "        genero = 'o'\n",
    "    if(palabra[-1] == 'a'):\n",
    "        palabra = palabra[:-1]\n",
    "        genero = 'a'\n",
    "    \n",
    "    if (plural == 1):\n",
    "        if(genero != ''):\n",
    "            print(palabra + ' es la raiz de la palabra ' + palabra_completa + ' con definición de genero en ' + genero + ' y plural con s')\n",
    "        else:\n",
    "            print(palabra + ' es la raiz de la palabra ' + palabra_completa + ' con definición de plural con s')\n",
    "    else:\n",
    "        if(genero != ''):\n",
    "            print(palabra + ' es la raiz de la palabra ' + palabra_completa + ' con definición de genero en ' + genero)"
   ]
  },
  {
   "cell_type": "code",
   "execution_count": 89,
   "metadata": {},
   "outputs": [
    {
     "name": "stdout",
     "output_type": "stream",
     "text": [
      "['gatos', 'gatas', 'estudios']\n",
      "gat es la raiz de la palabra gatos con definición de genero en o y plural con s\n",
      "gat es la raiz de la palabra gatas con definición de genero en a y plural con s\n",
      "estudi es la raiz de la palabra estudios con definición de genero en o y plural con s\n"
     ]
    }
   ],
   "source": [
    "#N1\n",
    "palabras = ['gatos', 'gatas', 'estudios']\n",
    "print(palabras)\n",
    "for palabra in palabras:\n",
    "    plural_genero(palabra)"
   ]
  },
  {
   "cell_type": "code",
   "execution_count": 90,
   "metadata": {},
   "outputs": [],
   "source": [
    "#N2"
   ]
  },
  {
   "cell_type": "code",
   "execution_count": 91,
   "metadata": {},
   "outputs": [],
   "source": [
    "#N3"
   ]
  },
  {
   "cell_type": "code",
   "execution_count": 92,
   "metadata": {},
   "outputs": [],
   "source": [
    "#N4"
   ]
  },
  {
   "cell_type": "code",
   "execution_count": 93,
   "metadata": {},
   "outputs": [],
   "source": [
    "#N5"
   ]
  }
 ],
 "metadata": {
  "kernelspec": {
   "display_name": "Python 3",
   "language": "python",
   "name": "python3"
  },
  "language_info": {
   "codemirror_mode": {
    "name": "ipython",
    "version": 3
   },
   "file_extension": ".py",
   "mimetype": "text/x-python",
   "name": "python",
   "nbconvert_exporter": "python",
   "pygments_lexer": "ipython3",
   "version": "3.11.1"
  },
  "orig_nbformat": 4
 },
 "nbformat": 4,
 "nbformat_minor": 2
}
