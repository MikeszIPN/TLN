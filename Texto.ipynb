{
 "cells": [
  {
   "cell_type": "code",
   "execution_count": 526,
   "metadata": {},
   "outputs": [
    {
     "name": "stdout",
     "output_type": "stream",
     "text": [
      "['José', 'correr', 'gatitos', 'lloraba', 'plantas']\n"
     ]
    }
   ],
   "source": [
    "#### Tokenizacion de palabras y eliminacion de simbolos no deseados\n",
    "\n",
    "# Entrada\n",
    "texto = 'José! correr? gatitos, (lloraba :( plantas.'\n",
    "\n",
    "# Simbolos no deseados\n",
    "caracteres = [' ','?',\"¿\",\".\",\"!\",\",\",\"¡\",\"(\",\":\",\")\"]\n",
    "mayusculas = ['A','B','C','D','E','F','G','H','I','J','K','L','M','N','Ñ','O','P','Q','R','S','T','U','V','W','X','Y','Z']\n",
    "\n",
    "# Lista en la que se guardaran las palabras de la oracion\n",
    "palabras = []\n",
    "\n",
    "# Variables de control para inicio y fin de la palabra\n",
    "inicio = 0\n",
    "final = 0\n",
    "\n",
    "# Recorre todas las letras de la oracion\n",
    "for i in texto:\n",
    "    \n",
    "    # Aumenta el valor de la posicion final de la palabra\n",
    "    final = final+1\n",
    "    \n",
    "    # Recorre los elementos de los caracteres no validos\n",
    "    for j in range(len(caracteres)):\n",
    "        \n",
    "        # Si el valor en el texto es igual a un caracter no valido\n",
    "        if i == caracteres[j]:\n",
    "            \n",
    "            # En la lista se ingresa la palabra (desde inicio a final de caracteres que la componen)\n",
    "            palabras.append(texto[inicio:final-1])\n",
    "            \n",
    "            # Si el elemento que se ingreso en la lista es un espacio vacio, se elimina\n",
    "            if palabras[(len(palabras))-1] == '':\n",
    "                palabras.remove('')\n",
    "            \n",
    "            # Se asigna nuevo inicio de palabra\n",
    "            inicio = final\n",
    "            \n",
    "            break # Deja de iterar en los caracteres no validos porque ya se encontro uno\n",
    "\n",
    "# Imprime lista de palabras\n",
    "print(palabras)"
   ]
  },
  {
   "cell_type": "code",
   "execution_count": 527,
   "metadata": {},
   "outputs": [],
   "source": [
    "# infinitivo: ar, er, ir\n",
    "def infinitivo(palabra):\n",
    "     infinitivo = [\"ar\", \"er\", \"ir\"]\n",
    "\n",
    "     #for i in palabras:  # recorre el arreglo de las palabras\n",
    "     for inf in infinitivo:     # recorre el arreglo de los infinitivos\n",
    "          if len(palabra) >= len(inf) and palabra[-len(inf):] == inf:    # verifica que las ultimas letras sean las mismas que las del infinitivo\n",
    "               return print(\"La raíz es \" + palabra[:-len(inf)] + \" y es un infinitivo.\")  # imprime las letras excepto las del infinitivo\n",
    "     return 0 #print(\"Esta palabra no es un infinitivo.\"   )"
   ]
  },
  {
   "cell_type": "code",
   "execution_count": 528,
   "metadata": {},
   "outputs": [],
   "source": [
    "# pasado simple: vocales con acento y on \n",
    "# para 1 y 3 persona\n",
    "def pasadoSimple(palabra):\n",
    "     pasado = ['á','é','í','ó','ú','ón']\n",
    "\n",
    "     #for i in palabras:  # recorre el arreglo de las palabras\n",
    "     for pas in pasado:     # recorre el arreglo de los infinitivos\n",
    "          for mayus in mayusculas:\n",
    "               if(palabra[0] == mayus):\n",
    "                    return 0 #print(\"Esta palabra no está en pasado simple.\"    )\n",
    "          if len(palabra) >= len(pas) and palabra[-len(pas):] == pas :    # verifica que las ultimas letras sean las mismas que las del infinitivo\n",
    "               return print(\"La raíz es \" + palabra[:-len(pas)] + \" y está en tiempo pasado simple.\")  # imprime las letras excepto las del infinitivo\n",
    "     return 0 #print(\"Esta palabra no está en pasado simple.\"    )\n",
    "\n",
    "for i in palabras:\n",
    "     pasadoSimple(i)"
   ]
  },
  {
   "cell_type": "code",
   "execution_count": 529,
   "metadata": {},
   "outputs": [],
   "source": [
    "# Funcion para verificar si es nombre propio\n",
    "def caps(palabra):\n",
    "    for mayus in range(len(mayusculas)):\n",
    "        if(palabra[0] == mayusculas[mayus]):\n",
    "            return print(\"Es un nombre propio, por lo tanto es el sujeto de la oración\")"
   ]
  },
  {
   "cell_type": "code",
   "execution_count": 530,
   "metadata": {},
   "outputs": [],
   "source": [
    "def plural_genero(palabra):\n",
    "    palabra_completa = palabra\n",
    "    genero = ''\n",
    "    plural = 0\n",
    "    if(palabra[-1] == 's'):\n",
    "        palabra = palabra[:-1]\n",
    "        plural = 1\n",
    "        if(palabra[-1] == 'o'):\n",
    "            palabra = palabra[:-1]\n",
    "            genero = 'o'\n",
    "        if(palabra[-1] == 'a'):\n",
    "            palabra = palabra[:-1]\n",
    "            genero = 'a'\n",
    "    \n",
    "    if (plural == 1):\n",
    "        if(genero != ''):\n",
    "            print(palabra + ' es la raíz de la palabra ' + palabra_completa + ' con definición de género en ' + genero + ' y plural con s')\n",
    "        else:\n",
    "            print(palabra + ' es la raíz de la palabra ' + palabra_completa + ' con definición de plural con s')\n",
    "    else:\n",
    "        if(genero != ''):\n",
    "            print(palabra + ' es la raíz de la palabra ' + palabra_completa + ' con definición de género en ' + genero)\n",
    "        \n",
    "        else:\n",
    "            return 0"
   ]
  },
  {
   "cell_type": "code",
   "execution_count": 531,
   "metadata": {},
   "outputs": [],
   "source": [
    "def preteritoImperfecto(palabra):\n",
    "    palabra_completa = palabra\n",
    "    terminaciones = ['aba','abas','abamos','ía','ías','íamos']\n",
    "    for i in terminaciones:\n",
    "        if(i in palabra):\n",
    "            palabra = palabra.replace(i, '')\n",
    "            return print(palabra + ' es la raíz de la palabra ' + palabra_completa + ' que está en tiempo pretérito imperfecto')\n",
    "        else:\n",
    "            return 0\n",
    "            "
   ]
  },
  {
   "cell_type": "code",
   "execution_count": 532,
   "metadata": {},
   "outputs": [
    {
     "name": "stdout",
     "output_type": "stream",
     "text": [
      "Palabra  1 :  José\n",
      "Es un nombre propio, por lo tanto es el sujeto de la oración\n",
      "\n",
      "\n",
      "Palabra  2 :  correr\n",
      "La raíz es corr y es un infinitivo.\n",
      "\n",
      "\n",
      "Palabra  3 :  gatitos\n",
      "gatit es la raíz de la palabra gatitos con definición de género en o y plural con s\n",
      "\n",
      "\n",
      "Palabra  4 :  lloraba\n",
      "llor es la raíz de la palabra lloraba que está en tiempo pretérito imperfecto\n",
      "\n",
      "\n",
      "Palabra  5 :  plantas\n",
      "plant es la raíz de la palabra plantas con definición de género en a y plural con s\n",
      "\n",
      "\n"
     ]
    }
   ],
   "source": [
    "def posicionPalabra(palabra):\n",
    "     pasadoSimple(palabra)\n",
    "     infinitivo(palabra)\n",
    "     if preteritoImperfecto(palabra) == 0:\n",
    "          plural_genero(palabra)\n",
    "     caps(palabra)\n",
    "     return\n",
    "     \n",
    "\n",
    "for i in range(len(palabras)):\n",
    "     print(\"Palabra \",i+1,\": \",palabras[i])\n",
    "     posicionPalabra(palabras[i])\n",
    "     print(\"\\n\")     "
   ]
  }
 ],
 "metadata": {
  "kernelspec": {
   "display_name": "Python 3",
   "language": "python",
   "name": "python3"
  },
  "language_info": {
   "codemirror_mode": {
    "name": "ipython",
    "version": 3
   },
   "file_extension": ".py",
   "mimetype": "text/x-python",
   "name": "python",
   "nbconvert_exporter": "python",
   "pygments_lexer": "ipython3",
   "version": "3.11.1"
  },
  "orig_nbformat": 4
 },
 "nbformat": 4,
 "nbformat_minor": 2
}
