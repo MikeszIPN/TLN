{
 "cells": [
  {
   "cell_type": "code",
   "execution_count": 372,
   "metadata": {},
   "outputs": [
    {
     "name": "stdout",
     "output_type": "stream",
     "text": [
      "['José', 'correr', 'comió', 'gatito']\n"
     ]
    }
   ],
   "source": [
    "#### Tokenizacion de palabras y eliminacion de simbolos no deseados\n",
    "\n",
    "# Entrada\n",
    "texto = 'José correr comió gatito.'\n",
    "\n",
    "# Simbolos no deseados\n",
    "caracteres = [' ','?',\"¿\",\".\",\"!\",\",\",\"¡\"]\n",
    "mayusculas = ['A','B','C','D','E','F','G','H','I','J','K','L','M','N','Ñ','O','P','Q','R','S','T','U','V','W','X','Y','Z']\n",
    "\n",
    "# Lista en la que se guardaran las palabras de la oracion\n",
    "palabras = []\n",
    "\n",
    "# Variables de control para inicio y fin de la palabra\n",
    "inicio = 0\n",
    "final = 0\n",
    "\n",
    "# Recorre todas las letras de la oracion\n",
    "for i in texto:\n",
    "    \n",
    "    # Aumenta el valor de la posicion final de la palabra\n",
    "    final = final+1\n",
    "    \n",
    "    # Recorre los elementos de los caracteres no validos\n",
    "    for j in range(len(caracteres)):\n",
    "        \n",
    "        # Si el valor en el texto es igual a un caracter no valido\n",
    "        if i == caracteres[j]:\n",
    "            \n",
    "            # En la lista se ingresa la palabra (desde inicio a final de caracteres que la componen)\n",
    "            palabras.append(texto[inicio:final-1])\n",
    "            \n",
    "            # Si el elemento que se ingreso en la lista es un espacio vacio, se elimina\n",
    "            if palabras[(len(palabras))-1] == '':\n",
    "                palabras.remove('')\n",
    "            \n",
    "            # Se asigna nuevo inicio de palabra\n",
    "            inicio = final\n",
    "            \n",
    "            break # Deja de iterar en los caracteres no validos porque ya se encontro uno\n",
    "\n",
    "# Imprime lista de palabras\n",
    "print(palabras)"
   ]
  },
  {
   "cell_type": "code",
   "execution_count": 373,
   "metadata": {},
   "outputs": [
    {
     "name": "stdout",
     "output_type": "stream",
     "text": [
      "La raíz es corr y es un infinitivo.\n"
     ]
    }
   ],
   "source": [
    "# infinitivo: ar, er, ir\n",
    "def infinitivo(palabra):\n",
    "     infinitivo = [\"ar\", \"er\", \"ir\"]\n",
    "\n",
    "     #for i in palabras:  # recorre el arreglo de las palabras\n",
    "     for inf in infinitivo:     # recorre el arreglo de los infinitivos\n",
    "          if len(palabra) >= len(inf) and palabra[-len(inf):] == inf:    # verifica que las ultimas letras sean las mismas que las del infinitivo\n",
    "               return print(\"La raíz es \" + palabra[:-len(inf)] + \" y es un infinitivo.\")  # imprime las letras excepto las del infinitivo\n",
    "     return 0 #print(\"Esta palabra no es un infinitivo.\"   )\n",
    "\n",
    "for i in palabras:\n",
    "     infinitivo(i)"
   ]
  },
  {
   "cell_type": "code",
   "execution_count": 374,
   "metadata": {},
   "outputs": [
    {
     "name": "stdout",
     "output_type": "stream",
     "text": [
      "La raíz es comi y está en tiempo pasado simple.\n"
     ]
    }
   ],
   "source": [
    "# pasado simple: vocales con acento y on \n",
    "# para 1 y 3 persona\n",
    "def pasadoSimple(palabra):\n",
    "     pasado = ['á','é','í','ó','ú','ón']\n",
    "\n",
    "     #for i in palabras:  # recorre el arreglo de las palabras\n",
    "     for pas in pasado:     # recorre el arreglo de los infinitivos\n",
    "          for mayus in mayusculas:\n",
    "               if(palabra[0] == mayus):\n",
    "                    return 0 #print(\"Esta palabra no está en pasado simple.\"    )\n",
    "          if len(palabra) >= len(pas) and palabra[-len(pas):] == pas :    # verifica que las ultimas letras sean las mismas que las del infinitivo\n",
    "               return print(\"La raíz es \" + palabra[:-len(pas)] + \" y está en tiempo pasado simple.\")  # imprime las letras excepto las del infinitivo\n",
    "     return 0 #print(\"Esta palabra no está en pasado simple.\"    )\n",
    "\n",
    "for i in palabras:\n",
    "     pasadoSimple(i)"
   ]
  },
  {
   "cell_type": "code",
   "execution_count": 375,
   "metadata": {},
   "outputs": [],
   "source": [
    "def plural_genero(palabra):\n",
    "    palabra_completa = palabra\n",
    "    genero = ''\n",
    "    plural = 0\n",
    "    if(palabra[-1] == 's'):\n",
    "        palabra = palabra[:-1]\n",
    "        plural = 1\n",
    "    if(palabra[-1] == 'o'):\n",
    "        palabra = palabra[:-1]\n",
    "        genero = 'o'\n",
    "    if(palabra[-1] == 'a'):\n",
    "        palabra = palabra[:-1]\n",
    "        genero = 'a'\n",
    "    \n",
    "    if (plural == 1):\n",
    "        if(genero != ''):\n",
    "            print(palabra + ' es la raíz de la palabra ' + palabra_completa + ' con definición de género en ' + genero + ' y plural con s')\n",
    "        else:\n",
    "            print(palabra + ' es la raíz de la palabra ' + palabra_completa + ' con definición de plural con s')\n",
    "    else:\n",
    "        if(genero != ''):\n",
    "            print(palabra + ' es la raíz de la palabra ' + palabra_completa + ' con definición de género en ' + genero)\n",
    "        \n",
    "        else:\n",
    "            return 0"
   ]
  },
  {
   "cell_type": "code",
   "execution_count": 376,
   "metadata": {},
   "outputs": [
    {
     "name": "stdout",
     "output_type": "stream",
     "text": [
      "['José', 'correr', 'comió', 'gatito']\n",
      "gatit es la raíz de la palabra gatito con definición de género en o\n"
     ]
    }
   ],
   "source": [
    "#palabras = ['gatos', 'gatas', 'estudios']\n",
    "print(palabras)\n",
    "for palabra in palabras:\n",
    "    plural_genero(palabra)"
   ]
  },
  {
   "cell_type": "code",
   "execution_count": 377,
   "metadata": {},
   "outputs": [],
   "source": [
    "#N2\n",
    "def preteritoImperfecto(palabra):\n",
    "    palabra_completa = palabra\n",
    "    terminaciones = ['aba','abas','abamos','ía','ías','íamos']\n",
    "    for i in terminaciones:\n",
    "        if(i in palabra):\n",
    "            palabra = palabra.replace(i, '')\n",
    "            return print(palabra + ' es la raíz de la palabra ' + palabra_completa + ' que está en tiempo pretérito imperfecto')\n",
    "        else:\n",
    "            return 0\n",
    "            "
   ]
  },
  {
   "cell_type": "code",
   "execution_count": 378,
   "metadata": {},
   "outputs": [
    {
     "name": "stdout",
     "output_type": "stream",
     "text": [
      "camin es la raíz de la palabra caminaba que está en tiempo pretérito imperfecto\n"
     ]
    }
   ],
   "source": [
    "preteritoImperfecto('caminaba')"
   ]
  },
  {
   "cell_type": "code",
   "execution_count": 379,
   "metadata": {},
   "outputs": [
    {
     "name": "stdout",
     "output_type": "stream",
     "text": [
      "Palabra  1 :  José\n",
      "\n",
      "\n",
      "Palabra  2 :  correr\n",
      "La raíz es corr y es un infinitivo.\n",
      "\n",
      "\n",
      "Palabra  3 :  comió\n",
      "La raíz es comi y está en tiempo pasado simple.\n",
      "\n",
      "\n",
      "Palabra  4 :  gatito\n",
      "gatit es la raíz de la palabra gatito con definición de género en o\n",
      "\n",
      "\n"
     ]
    }
   ],
   "source": [
    "def posicionPalabra(palabra):\n",
    "     pasadoSimple(palabra)\n",
    "     infinitivo(palabra)\n",
    "     preteritoImperfecto(palabra)\n",
    "     plural_genero(palabra)\n",
    "     return\n",
    "     \n",
    "\n",
    "for i in range(len(palabras)):\n",
    "     print(\"Palabra \",i+1,\": \",palabras[i])\n",
    "     posicionPalabra(palabras[i])\n",
    "     print(\"\\n\")     "
   ]
  }
 ],
 "metadata": {
  "kernelspec": {
   "display_name": "Python 3",
   "language": "python",
   "name": "python3"
  },
  "language_info": {
   "codemirror_mode": {
    "name": "ipython",
    "version": 3
   },
   "file_extension": ".py",
   "mimetype": "text/x-python",
   "name": "python",
   "nbconvert_exporter": "python",
   "pygments_lexer": "ipython3",
   "version": "3.11.1"
  },
  "orig_nbformat": 4
 },
 "nbformat": 4,
 "nbformat_minor": 2
}
