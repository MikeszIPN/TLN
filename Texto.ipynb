{
 "cells": [
  {
   "cell_type": "code",
   "execution_count": 207,
   "metadata": {},
   "outputs": [
    {
     "name": "stdout",
     "output_type": "stream",
     "text": [
      "['Hola', 'me', 'llamo', 'miguel', 'estudio', 'a', 'veces', 'si', 'jeje', 'gatos', 'hola', 'hola']\n"
     ]
    }
   ],
   "source": [
    "#### Tokenizacion de palabras y eliminacion de simbolos no deseados\n",
    "\n",
    "# Entrada\n",
    "texto = 'Hola me llamo miguel, ¿estudio? a. ¡veces si! jeje, gatos hola hola.'\n",
    "\n",
    "# Simbolos no deseados\n",
    "caracteres = [' ','?',\"¿\",\".\",\"!\",\",\",\"¡\"]\n",
    "\n",
    "# Lista en la que se guardaran las palabras de la oracion\n",
    "palabras = []\n",
    "\n",
    "# Variables de control para inicio y fin de la palabra\n",
    "inicio = 0\n",
    "final = 0\n",
    "\n",
    "# Recorre todas las letras de la oracion\n",
    "for i in texto:\n",
    "    \n",
    "    # Aumenta el valor de la posicion final de la palabra\n",
    "    final = final+1\n",
    "    \n",
    "    # Recorre los elementos de los caracteres no validos\n",
    "    for j in range(len(caracteres)):\n",
    "        \n",
    "        # Si el valor en el texto es igual a un caracter no valido\n",
    "        if i == caracteres[j]:\n",
    "            \n",
    "            # En la lista se ingresa la palabra (desde inicio a final de caracteres que la componen)\n",
    "            palabras.append(texto[inicio:final-1])\n",
    "            \n",
    "            # Si el elemento que se ingreso en la lista es un espacio vacio, se elimina\n",
    "            if palabras[(len(palabras))-1] == '':\n",
    "                palabras.remove('')\n",
    "            \n",
    "            # Se asigna nuevo inicio de palabra\n",
    "            inicio = final\n",
    "            \n",
    "            break # Deja de iterar en los caracteres no validos porque ya se encontro uno\n",
    "\n",
    "# Imprime lista de palabras\n",
    "print(palabras)\n",
    "\n",
    "#SISISISISINonon"
   ]
  },
  {
   "cell_type": "code",
   "execution_count": 208,
   "metadata": {},
   "outputs": [
    {
     "name": "stdout",
     "output_type": "stream",
     "text": [
      "Esta palabra no es un infinitivo\n"
     ]
    }
   ],
   "source": [
    "# infinitivo: ar, er, ir\n",
    "# pasado simple: vocaes con acento y on \n",
    "def infinitivo(palabras):\n",
    "     infinitivo = [\"ar\", \"er\", \"ir\"]\n",
    "\n",
    "     for i in palabras:  # recorre el arreglo de las palabras\n",
    "          for j in infinitivo:     # recorre el arreglo de los infinitivos\n",
    "               if len(i) >= len(j) and i[-len(j):] == j:    # verifica que las ultimas letras sean las mismas que las del infinitivo\n",
    "                    return \"La raíz es \" + i[:-len(j)] + \" y es un infinitivo\"  # imprime las letras excepto las del infinitivo\n",
    "               else:\n",
    "                    return \"Esta palabra no es un infinitivo\"\n",
    "print(infinitivo(palabras))"
   ]
  },
  {
   "cell_type": "code",
   "execution_count": 209,
   "metadata": {},
   "outputs": [],
   "source": [
    "#V1"
   ]
  },
  {
   "cell_type": "code",
   "execution_count": 210,
   "metadata": {},
   "outputs": [],
   "source": [
    "#V2"
   ]
  },
  {
   "cell_type": "code",
   "execution_count": 211,
   "metadata": {},
   "outputs": [],
   "source": [
    "#V3"
   ]
  },
  {
   "cell_type": "code",
   "execution_count": 212,
   "metadata": {},
   "outputs": [],
   "source": [
    "#V4"
   ]
  },
  {
   "cell_type": "code",
   "execution_count": 213,
   "metadata": {},
   "outputs": [],
   "source": [
    "#V5"
   ]
  },
  {
   "cell_type": "code",
   "execution_count": 214,
   "metadata": {},
   "outputs": [],
   "source": [
    "#Parte Navil\n",
    "def plural_genero(palabra):\n",
    "    palabra_completa = palabra\n",
    "    genero = ''\n",
    "    plural = 0\n",
    "    if(palabra[-1] == 's'):\n",
    "        palabra = palabra[:-1]\n",
    "        plural = 1\n",
    "    if(palabra[-1] == 'o'):\n",
    "        palabra = palabra[:-1]\n",
    "        genero = 'o'\n",
    "    if(palabra[-1] == 'a'):\n",
    "        palabra = palabra[:-1]\n",
    "        genero = 'a'\n",
    "    \n",
    "    if (plural == 1):\n",
    "        if(genero != ''):\n",
    "            print(palabra + ' es la raiz de la palabra ' + palabra_completa + ' con definición de genero en ' + genero + ' y plural con s')\n",
    "        else:\n",
    "            print(palabra + ' es la raiz de la palabra ' + palabra_completa + ' con definición de plural con s')\n",
    "    else:\n",
    "        if(genero != ''):\n",
    "            print(palabra + ' es la raiz de la palabra ' + palabra_completa + ' con definición de genero en ' + genero)"
   ]
  },
  {
   "cell_type": "code",
   "execution_count": 215,
   "metadata": {},
   "outputs": [
    {
     "name": "stdout",
     "output_type": "stream",
     "text": [
      "['gatos', 'gatas', 'estudios']\n",
      "gat es la raiz de la palabra gatos con definición de genero en o y plural con s\n",
      "gat es la raiz de la palabra gatas con definición de genero en a y plural con s\n",
      "estudi es la raiz de la palabra estudios con definición de genero en o y plural con s\n"
     ]
    }
   ],
   "source": [
    "#N1\n",
    "palabras = ['gatos', 'gatas', 'estudios']\n",
    "print(palabras)\n",
    "for palabra in palabras:\n",
    "    plural_genero(palabra)"
   ]
  },
  {
   "cell_type": "code",
   "execution_count": 216,
   "metadata": {},
   "outputs": [],
   "source": [
    "#N2"
   ]
  },
  {
   "cell_type": "code",
   "execution_count": 217,
   "metadata": {},
   "outputs": [],
   "source": [
    "#N3"
   ]
  },
  {
   "cell_type": "code",
   "execution_count": 218,
   "metadata": {},
   "outputs": [],
   "source": [
    "#N4"
   ]
  },
  {
   "cell_type": "code",
   "execution_count": 219,
   "metadata": {},
   "outputs": [],
   "source": [
    "#N5"
   ]
  }
 ],
 "metadata": {
  "kernelspec": {
   "display_name": "Python 3",
   "language": "python",
   "name": "python3"
  },
  "language_info": {
   "codemirror_mode": {
    "name": "ipython",
    "version": 3
   },
   "file_extension": ".py",
   "mimetype": "text/x-python",
   "name": "python",
   "nbconvert_exporter": "python",
   "pygments_lexer": "ipython3",
   "version": "3.11.5"
  },
  "orig_nbformat": 4
 },
 "nbformat": 4,
 "nbformat_minor": 2
}
