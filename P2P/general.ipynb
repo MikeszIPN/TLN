{
 "cells": [
  {
   "cell_type": "markdown",
   "metadata": {},
   "source": [
    "# Proyecto del segundo parcial"
   ]
  },
  {
   "cell_type": "markdown",
   "metadata": {},
   "source": [
    "Instrucciones:\n",
    "1. Como primer proceso deben eliminar signos de puntuación y stopwords (es posible realizarlo con una biblioteca)\n",
    "2. Cambiar el texto a minúsculas completamente.\n",
    "     * Durante el proceso es posible realizar\n",
    "     * Tokenización de oraciones\n",
    "     * Tokenización de palabras\n",
    "     * Uso de embeddings\n",
    "     * TF, IDF, TF-IDF\n",
    "     * Asociación entre palabras\n",
    "     * Terminología\n",
    "     * Relaciones semánticas\n",
    "3. El programa se evaluará de la siguiente manera\n",
    "     * El profesor proporcionará 5 archivos de texto (en .txt).\n",
    "     * Colocar espacio para introducir los 5 archivos.\n",
    "     * El programa presentará tabla de TF, IDF y TF-IDF de palabras por\n",
    "documento.\n",
    "     * Mostrar resumen de cada uno de los textos.\n",
    "     * Mostrar resumen de los cinco textos juntos."
   ]
  },
  {
   "cell_type": "code",
   "execution_count": 18,
   "metadata": {},
   "outputs": [
    {
     "name": "stdout",
     "output_type": "stream",
     "text": [
      "Hola Como estas Estoy muy emocionada de tu viaje a Europa Wuuuu\n",
      "['Hola', 'Como', 'Estoy', 'emocionada', 'viaje', 'Europa', 'Wuuuu']\n"
     ]
    }
   ],
   "source": [
    "# importacion de bibliotecas\n",
    "import nltk\n",
    "import re\n",
    "\n",
    "\n",
    "def remove_stopwords(text):\n",
    "\n",
    "  stop_words = nltk.corpus.stopwords.words('spanish')\n",
    "\n",
    "  filtered_text = [word for word in text.split() if word not in stop_words]\n",
    "\n",
    "  return filtered_text\n",
    "\n",
    "text = \"Hola! ¿Como est'as? Estoy muy emocionada de tu viaje a Europa!! Wuuuu!!\"\n",
    "# text = \"Hello! How are you!! I'm very excited that you're going for a trip to Europe!! Yayy!\"\n",
    "\n",
    "text = re.sub(\"[^-9A-Za-z ]\", \"\" , text)\n",
    "\n",
    "print(text)\n",
    "\n",
    "filtered_text = remove_stopwords(text)\n",
    "\n",
    "print(filtered_text)"
   ]
  },
  {
   "cell_type": "code",
   "execution_count": 4,
   "metadata": {},
   "outputs": [
    {
     "ename": "NameError",
     "evalue": "name 'palabras' is not defined",
     "output_type": "error",
     "traceback": [
      "\u001b[1;31m---------------------------------------------------------------------------\u001b[0m",
      "\u001b[1;31mNameError\u001b[0m                                 Traceback (most recent call last)",
      "\u001b[1;32mc:\\Users\\chj06\\OneDrive\\Documents\\Escuela\\5_semestre\\Tecnologias_Lenguaje_Natural\\TLN\\P2P\\general.ipynb Cell 3\u001b[0m line \u001b[0;36m1\n\u001b[0;32m     <a href='vscode-notebook-cell:/c%3A/Users/chj06/OneDrive/Documents/Escuela/5_semestre/Tecnologias_Lenguaje_Natural/TLN/P2P/general.ipynb#W0sZmlsZQ%3D%3D?line=14'>15</a>\u001b[0m      \u001b[39mprint\u001b[39m(\u001b[39m\"\u001b[39m\u001b[39mSe cargaron los datos\u001b[39m\u001b[39m\"\u001b[39m)\n\u001b[0;32m     <a href='vscode-notebook-cell:/c%3A/Users/chj06/OneDrive/Documents/Escuela/5_semestre/Tecnologias_Lenguaje_Natural/TLN/P2P/general.ipynb#W0sZmlsZQ%3D%3D?line=15'>16</a>\u001b[0m      \u001b[39mreturn\u001b[39;00m data\n\u001b[1;32m---> <a href='vscode-notebook-cell:/c%3A/Users/chj06/OneDrive/Documents/Escuela/5_semestre/Tecnologias_Lenguaje_Natural/TLN/P2P/general.ipynb#W0sZmlsZQ%3D%3D?line=17'>18</a>\u001b[0m datos \u001b[39m=\u001b[39m load_data(\u001b[39m\"\u001b[39;49m\u001b[39mTexto1.txt\u001b[39;49m\u001b[39m\"\u001b[39;49m)\n\u001b[0;32m     <a href='vscode-notebook-cell:/c%3A/Users/chj06/OneDrive/Documents/Escuela/5_semestre/Tecnologias_Lenguaje_Natural/TLN/P2P/general.ipynb#W0sZmlsZQ%3D%3D?line=19'>20</a>\u001b[0m \u001b[39mprint\u001b[39m(datos)\n",
      "\u001b[1;32mc:\\Users\\chj06\\OneDrive\\Documents\\Escuela\\5_semestre\\Tecnologias_Lenguaje_Natural\\TLN\\P2P\\general.ipynb Cell 3\u001b[0m line \u001b[0;36m1\n\u001b[0;32m      <a href='vscode-notebook-cell:/c%3A/Users/chj06/OneDrive/Documents/Escuela/5_semestre/Tecnologias_Lenguaje_Natural/TLN/P2P/general.ipynb#W0sZmlsZQ%3D%3D?line=7'>8</a>\u001b[0m        oraciones\u001b[39m.\u001b[39mappend([x \u001b[39mfor\u001b[39;00m x \u001b[39min\u001b[39;00m linea\u001b[39m.\u001b[39mstrip()\u001b[39m.\u001b[39msplit(\u001b[39m\"\u001b[39m\u001b[39m.\u001b[39m\u001b[39m\"\u001b[39m)])\n\u001b[0;32m      <a href='vscode-notebook-cell:/c%3A/Users/chj06/OneDrive/Documents/Escuela/5_semestre/Tecnologias_Lenguaje_Natural/TLN/P2P/general.ipynb#W0sZmlsZQ%3D%3D?line=8'>9</a>\u001b[0m        \u001b[39m# Si el elemento que se ingreso en la lista es un espacio vacio, se elimina\u001b[39;00m\n\u001b[1;32m---> <a href='vscode-notebook-cell:/c%3A/Users/chj06/OneDrive/Documents/Escuela/5_semestre/Tecnologias_Lenguaje_Natural/TLN/P2P/general.ipynb#W0sZmlsZQ%3D%3D?line=9'>10</a>\u001b[0m        \u001b[39mif\u001b[39;00m oraciones[(\u001b[39mlen\u001b[39m(palabras))\u001b[39m-\u001b[39m\u001b[39m1\u001b[39m] \u001b[39m==\u001b[39m \u001b[39m'\u001b[39m\u001b[39m'\u001b[39m:\n\u001b[0;32m     <a href='vscode-notebook-cell:/c%3A/Users/chj06/OneDrive/Documents/Escuela/5_semestre/Tecnologias_Lenguaje_Natural/TLN/P2P/general.ipynb#W0sZmlsZQ%3D%3D?line=10'>11</a>\u001b[0m             oraciones\u001b[39m.\u001b[39mremove(\u001b[39m'\u001b[39m\u001b[39m'\u001b[39m)\n\u001b[0;32m     <a href='vscode-notebook-cell:/c%3A/Users/chj06/OneDrive/Documents/Escuela/5_semestre/Tecnologias_Lenguaje_Natural/TLN/P2P/general.ipynb#W0sZmlsZQ%3D%3D?line=11'>12</a>\u001b[0m \u001b[39m# Crear matriz para guardar las oraciones\u001b[39;00m\n",
      "\u001b[1;31mNameError\u001b[0m: name 'palabras' is not defined"
     ]
    }
   ],
   "source": [
    "# Leer el archivoimport numpy as np\n",
    "# normalizacion del texto\n",
    "def normalizacion(texto):\n",
    "     caracteres = [' ','?',\"¿\",\".\",\"!\",\",\",\"¡\",\"(\",\":\",\")\"]\n",
    "     mayusculas = ['A','B','C','D','E','F','G','H','I','J','K','L','M','N','Ñ','O','P','Q','R','S','T','U','V','W','X','Y','Z']\n",
    "\n",
    "     data = []\n",
    "     with open(texto, \"r\", encoding='utf-8') as datos:\n",
    "          oraciones = []\n",
    "          for linea in datos:\n",
    "               oraciones.append([x for x in linea.strip().split(\".\")])\n",
    "\n",
    "               # Si el elemento que se ingreso en la lista es un espacio vacio, se elimina\n",
    "               if oraciones[(len(palabras))-1] == '':\n",
    "                    oraciones.remove('')\n",
    "        # Crear matriz para guardar las oraciones\n",
    "          data.append(oraciones)\n",
    "        \n",
    "\n",
    "\n",
    "     print(\"Se cargaron los datos\")\n",
    "     return data\n",
    "\n",
    "datos = normalizacion(\"Texto1.txt\")\n",
    "\n",
    "print(datos)"
   ]
  }
 ],
 "metadata": {
  "kernelspec": {
   "display_name": "Python 3",
   "language": "python",
   "name": "python3"
  },
  "language_info": {
   "codemirror_mode": {
    "name": "ipython",
    "version": 3
   },
   "file_extension": ".py",
   "mimetype": "text/x-python",
   "name": "python",
   "nbconvert_exporter": "python",
   "pygments_lexer": "ipython3",
   "version": "3.11.1"
  }
 },
 "nbformat": 4,
 "nbformat_minor": 2
}
