{
 "cells": [
  {
   "cell_type": "code",
   "execution_count": 1,
   "metadata": {},
   "outputs": [],
   "source": [
    "from sklearn.feature_extraction.text import TfidfVectorizer"
   ]
  },
  {
   "cell_type": "code",
   "execution_count": 2,
   "metadata": {},
   "outputs": [],
   "source": [
    "# documentos = [\n",
    "#      \"Este es el primer documento.\",\n",
    "#      \"Este es el segundo documento.\",\n",
    "#       \"El tercer documento es diferente.\",\n",
    "#       \"Aqui tenemos un cuarto documento.\"\n",
    "# ]"
   ]
  },
  {
   "cell_type": "code",
   "execution_count": 3,
   "metadata": {},
   "outputs": [],
   "source": [
    "# # Inicializar el vectorizador TF-IDF\n",
    "# tfidf_vectorizer = TfidfVectorizer()\n",
    "\n",
    "# # Ajustar el vectorizador a la conleccion de documentos\n",
    "# tfidf_vectorizer.fit(documentos)\n",
    "\n",
    "# # Obtener el IDF para el término \"documento\"\n",
    "# term = \"es\"\n",
    "# idf = tfidf_vectorizer.idf_[tfidf_vectorizer.vocabulary_.get(term)]\n",
    "\n",
    "# print(f\"IDF para'{term}': {idf}\")"
   ]
  },
  {
   "cell_type": "code",
   "execution_count": 4,
   "metadata": {},
   "outputs": [],
   "source": [
    "from sklearn.feature_extraction.text import TfidfVectorizer\n",
    "import numpy as np\n",
    "\n",
    "# Carga del texto 1\n",
    "with open('Texto2.txt', 'r', encoding='utf-8-sig') as archivoI:\n",
    "    archivo1 = archivoI.readlines()\n",
    "archivo1 = ' '.join([linea.rstrip() for linea in archivo1])\n",
    "\n",
    "# Carga del texto 2\n",
    "with open('Texto3.txt', 'r', encoding='utf-8-sig') as archivoII:\n",
    "    archivo2 = archivoII.readlines()\n",
    "archivo2 = ' '.join([linea.rstrip() for linea in archivo2])\n",
    "\n",
    "# Carga del texto 3\n",
    "with open('Texto4.txt', 'r', encoding='utf-8-sig') as archivoIII:\n",
    "    archivo3 = archivoIII.readlines()\n",
    "archivo3 = ' '.join([linea.rstrip() for linea in archivo3])\n",
    "\n",
    "archivos = [archivo1, archivo2, archivo3]\n",
    "\n",
    "# Inicializar el vectorizador TF-IDF\n",
    "tfidf_vectorizer = TfidfVectorizer()\n",
    "\n",
    "# Ajustar el vectorizador a la colección de documentos\n",
    "tfidf_vectorizer.fit(archivos)\n",
    "\n",
    "# Obtener el vocabulario\n",
    "vocabulario = tfidf_vectorizer.get_feature_names_out()\n"
   ]
  },
  {
   "cell_type": "markdown",
   "metadata": {},
   "source": [
    "### 10 palabras que aparezcan en los tres textos"
   ]
  },
  {
   "cell_type": "code",
   "execution_count": 5,
   "metadata": {},
   "outputs": [
    {
     "name": "stdout",
     "output_type": "stream",
     "text": [
      "IDF para 'de': 1.0\n",
      "IDF para 'la': 1.0\n",
      "IDF para 'que': 1.0\n",
      "IDF para 'el': 1.0\n",
      "IDF para 'en': 1.0\n",
      "IDF para 'de': 1.0\n",
      "IDF para 'se': 1.0\n",
      "IDF para 'un': 1.2876820724517808\n",
      "IDF para 'los': 1.0\n",
      "IDF para 'es': 1.2876820724517808\n"
     ]
    }
   ],
   "source": [
    "# Obtener el IDF para el término \"es\"\n",
    "term1 = \"de\"\n",
    "term2 = \"la\"\n",
    "term3 = \"que\"\n",
    "term4 = \"el\"\n",
    "term5 = \"en\"\n",
    "term6 = \"de\"\n",
    "term7 = \"se\"\n",
    "term8 = \"un\"\n",
    "term9 = \"los\"\n",
    "term10 = \"es\"\n",
    "\n",
    "term_index = np.where(vocabulario == term1)[0][0]\n",
    "idf = tfidf_vectorizer.idf_[term_index]\n",
    "print(f\"IDF para '{term1}': {idf}\")\n",
    "\n",
    "term_index = np.where(vocabulario == term2)[0][0]\n",
    "idf = tfidf_vectorizer.idf_[term_index]\n",
    "print(f\"IDF para '{term2}': {idf}\")\n",
    "\n",
    "term_index = np.where(vocabulario == term3)[0][0]\n",
    "idf = tfidf_vectorizer.idf_[term_index]\n",
    "print(f\"IDF para '{term3}': {idf}\")\n",
    "\n",
    "term_index = np.where(vocabulario == term4)[0][0]\n",
    "idf = tfidf_vectorizer.idf_[term_index]\n",
    "print(f\"IDF para '{term4}': {idf}\")\n",
    "\n",
    "term_index = np.where(vocabulario == term5)[0][0]\n",
    "idf = tfidf_vectorizer.idf_[term_index]\n",
    "print(f\"IDF para '{term5}': {idf}\")\n",
    "\n",
    "term_index = np.where(vocabulario == term6)[0][0]\n",
    "idf = tfidf_vectorizer.idf_[term_index]\n",
    "print(f\"IDF para '{term6}': {idf}\")\n",
    "\n",
    "term_index = np.where(vocabulario == term7)[0][0]\n",
    "idf = tfidf_vectorizer.idf_[term_index]\n",
    "print(f\"IDF para '{term7}': {idf}\")\n",
    "\n",
    "term_index = np.where(vocabulario == term8)[0][0]\n",
    "idf = tfidf_vectorizer.idf_[term_index]\n",
    "print(f\"IDF para '{term8}': {idf}\")\n",
    "\n",
    "term_index = np.where(vocabulario == term9)[0][0]\n",
    "idf = tfidf_vectorizer.idf_[term_index]\n",
    "print(f\"IDF para '{term9}': {idf}\")\n",
    "\n",
    "term_index = np.where(vocabulario == term10)[0][0]\n",
    "idf = tfidf_vectorizer.idf_[term_index]\n",
    "print(f\"IDF para '{term10}': {idf}\")"
   ]
  },
  {
   "cell_type": "markdown",
   "metadata": {},
   "source": [
    "### 6 palabras que aparecen en dos textos"
   ]
  },
  {
   "cell_type": "code",
   "execution_count": 6,
   "metadata": {},
   "outputs": [
    {
     "name": "stdout",
     "output_type": "stream",
     "text": [
      "IDF para 'de': 1.0\n",
      "IDF para 'la': 1.0\n",
      "IDF para 'que': 1.0\n",
      "IDF para 'el': 1.0\n",
      "IDF para 'en': 1.0\n",
      "IDF para 'de': 1.0\n"
     ]
    }
   ],
   "source": [
    "term1 = \"de\"\n",
    "term2 = \"la\"\n",
    "term3 = \"que\"\n",
    "term4 = \"el\"\n",
    "term5 = \"en\"\n",
    "term6 = \"de\"\n",
    "\n",
    "term_index = np.where(vocabulario == term1)[0][0]\n",
    "idf = tfidf_vectorizer.idf_[term_index]\n",
    "print(f\"IDF para '{term1}': {idf}\")\n",
    "\n",
    "term_index = np.where(vocabulario == term2)[0][0]\n",
    "idf = tfidf_vectorizer.idf_[term_index]\n",
    "print(f\"IDF para '{term2}': {idf}\")\n",
    "\n",
    "term_index = np.where(vocabulario == term3)[0][0]\n",
    "idf = tfidf_vectorizer.idf_[term_index]\n",
    "print(f\"IDF para '{term3}': {idf}\")\n",
    "\n",
    "term_index = np.where(vocabulario == term4)[0][0]\n",
    "idf = tfidf_vectorizer.idf_[term_index]\n",
    "print(f\"IDF para '{term4}': {idf}\")\n",
    "\n",
    "term_index = np.where(vocabulario == term5)[0][0]\n",
    "idf = tfidf_vectorizer.idf_[term_index]\n",
    "print(f\"IDF para '{term5}': {idf}\")\n",
    "\n",
    "term_index = np.where(vocabulario == term6)[0][0]\n",
    "idf = tfidf_vectorizer.idf_[term_index]\n",
    "print(f\"IDF para '{term6}': {idf}\")"
   ]
  },
  {
   "cell_type": "markdown",
   "metadata": {},
   "source": [
    "### 2 palabras que aparezcan en cada texto"
   ]
  },
  {
   "cell_type": "code",
   "execution_count": 7,
   "metadata": {},
   "outputs": [
    {
     "name": "stdout",
     "output_type": "stream",
     "text": [
      "IDF para 'pinturas': 1.6931471805599454\n",
      "IDF para 'américa': 1.6931471805599454\n",
      "IDF para 'fértil': 1.6931471805599454\n",
      "IDF para 'oficio': 1.6931471805599454\n",
      "IDF para 'agua': 1.6931471805599454\n",
      "IDF para 'población': 1.6931471805599454\n"
     ]
    }
   ],
   "source": [
    "# pinturas\n",
    "# América\n",
    "# Texto 3\n",
    "term1 = \"pinturas\"\n",
    "term2 = \"américa\"\n",
    "\n",
    "term_index = np.where(vocabulario == term1)[0][0]\n",
    "idf = tfidf_vectorizer.idf_[term_index]\n",
    "print(f\"IDF para '{term1}': {idf}\")\n",
    "\n",
    "term_index = np.where(vocabulario == term2)[0][0]\n",
    "idf = tfidf_vectorizer.idf_[term_index]\n",
    "print(f\"IDF para '{term2}': {idf}\")\n",
    "\n",
    "# fértil\n",
    "# oficio\n",
    "# Texto 2\n",
    "term3 = \"fértil\"\n",
    "term4 = \"oficio\"\n",
    "\n",
    "term_index = np.where(vocabulario == term3)[0][0]\n",
    "idf = tfidf_vectorizer.idf_[term_index]\n",
    "print(f\"IDF para '{term3}': {idf}\")\n",
    "\n",
    "term_index = np.where(vocabulario == term4)[0][0]\n",
    "idf = tfidf_vectorizer.idf_[term_index]\n",
    "print(f\"IDF para '{term4}': {idf}\")\n",
    "\n",
    "# agua\n",
    "# población\n",
    "# Texto 1\n",
    "term5 = \"agua\"\n",
    "term6 = \"población\"\n",
    "\n",
    "term_index = np.where(vocabulario == term5)[0][0]\n",
    "idf = tfidf_vectorizer.idf_[term_index]\n",
    "print(f\"IDF para '{term5}': {idf}\")\n",
    "\n",
    "term_index = np.where(vocabulario == term6)[0][0]\n",
    "idf = tfidf_vectorizer.idf_[term_index]\n",
    "print(f\"IDF para '{term6}': {idf}\")\n"
   ]
  }
 ],
 "metadata": {
  "kernelspec": {
   "display_name": "Python 3",
   "language": "python",
   "name": "python3"
  },
  "language_info": {
   "codemirror_mode": {
    "name": "ipython",
    "version": 3
   },
   "file_extension": ".py",
   "mimetype": "text/x-python",
   "name": "python",
   "nbconvert_exporter": "python",
   "pygments_lexer": "ipython3",
   "version": "3.11.1"
  }
 },
 "nbformat": 4,
 "nbformat_minor": 2
}
