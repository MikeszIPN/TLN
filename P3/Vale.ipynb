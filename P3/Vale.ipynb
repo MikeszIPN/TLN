{
 "cells": [
  {
   "cell_type": "code",
   "execution_count": 28,
   "metadata": {},
   "outputs": [],
   "source": [
    "from sklearn.feature_extraction.text import TfidfVectorizer\n",
    "from LeerArchivo import load_data"
   ]
  },
  {
   "cell_type": "code",
   "execution_count": 29,
   "metadata": {},
   "outputs": [],
   "source": [
    "documentos = [\n",
    "     \"Este es el primer documento.\",\n",
    "     \"Este es el segundo documento.\",\n",
    "      \"El tercer documento es diferente.\",\n",
    "      \"Aqui tenemos un cuarto documento.\"\n",
    "]"
   ]
  },
  {
   "cell_type": "code",
   "execution_count": 30,
   "metadata": {},
   "outputs": [
    {
     "name": "stdout",
     "output_type": "stream",
     "text": [
      "IDF para'es': 1.2231435513142097\n"
     ]
    }
   ],
   "source": [
    "# Inicializar el vectorizador TF-IDF\n",
    "tfidf_vectorizer = TfidfVectorizer()\n",
    "\n",
    "# Ajustar el vectorizador a la conleccion de documentos\n",
    "tfidf_vectorizer.fit(documentos)\n",
    "\n",
    "# Obtener el IDF para el término \"documento\"\n",
    "term = \"es\"\n",
    "idf = tfidf_vectorizer.idf_[tfidf_vectorizer.vocabulary_.get(term)]\n",
    "\n",
    "print(f\"IDF para'{term}': {idf}\")"
   ]
  },
  {
   "cell_type": "code",
   "execution_count": 32,
   "metadata": {},
   "outputs": [
    {
     "name": "stdout",
     "output_type": "stream",
     "text": [
      "['Cerca del agua.', 'Ixtenco fue fundada por los caciques Juan Ponce de León, Francisco de Barba Torres y Paredes, Francis- co Contreras y Antonio Gómez Fabián, quienes pidieron al entonces virrey Antonio de Mendoza que les permitiera fundar un asentamiento en Tlaxcala, en las faldas de La Malinche; la autorización fue concedida siempre que dicho poblado llevara el nombre de San Juan Bautista, en honor de la esposa del gobernante, que se llamaba Juana. Debía asimismo construirse un templo donde se venerara al santo patrono. Otro de los requisitos para la fundación fue que en caso de que algún grupo indígena llegara hasta el poblado, se le otorgara un lugar donde pudiera vivir.', 'Así, la nueva población quedó formalmente establecida el 8 de enero de 1532 con el nombre oficial de San Juan Bautista Ixtenco.', 'La razón principal por la que se eligió la cercanía de las faldas de La Malinche para establecer el asen.']\n",
      "['Tierra de artistas.', 'San Bernardino Contla es tierra fértil. Aquí nació y vivió su infancia y juventud el gran pintor Desiderio Hernández Xochitiotzin, creador de los murales que adornan el Palacio de Gobierno en pleno centro de Tlaxcala.', 'La máquina que opera el joven artesano Cuamatzin es tan antigua como el arte textil de Tlaxcala. Todas las piezas principales del telar son de madera labrada a mano. El sonido rítmico del pedaleo produce una especie de música industrial muy grata que acompaña las horas de trabajo de este singular artesano, capturador de colores, tonos y matices.', 'Detrás de la máquina, las manos de Daniel, entrenadas para urdir tramas multicolores, dan vida todos los días a nuevos Saltillos de diferentes tamaños.', 'Quedan pocas industrias del tejido artesanal a la antigua usanza. Hace treinta o cuarenta años casi todas las familias de Contla tejían sarapes. Mientras se transmita el oficio de generación en generación y los niños lo aprendan y lo continúen, habrá artesanías textiles al.']\n",
      "['Uno de los mayores hallazgos arqueológicos en América.', 'Cuando Antonio Mercado empezó a conversar con Diana Magaloni, restauradora por parte del Instituto Nacional de Antropología e Historia le fue revelada una fase apasionante sobre los murales recientemente descubiertos en Cacaxtla. Con el análisis de la técnica pictórica, es decir, un estudio de cómo se hicieron los murales con base en pequeñísimas muestras de la superficie pintada, los técnicos van siguiendo la huella del o los pintores, de su o sus técnicas, etc., hasta formar una detallada historia de las pinturas, con tanta precisión que pueden decirnos si el pintor era diestro o era aprendiz. Esta labores apenas una de las muchas que tienen lugar en Cacaxtla, Tlaxcala, en torno a los recientes descubrimientos pictóricos mayateotihuacanos que han venido a ensanchar la visión sobre una de las más interesantes culturas de Mesoamérica.', '', 'Entre los hallazgos está el de dos distintas épocas históricas, pues se descubrió que encima de una pintura otra fue superpuesta con distintos colores. Se calcula que no transcurrió demasiado tiempo entre una y otra por la similitud de trazos y formas, de la técnica de composición y de los tintes empleados. Si se toma en cuenta que las pinturas murales de Cacaxtla corresponden a épocas que abarcan un lapso de 700 años (desde 300 hasta 1 000), y.']\n",
      "[['Cerca del agua.', 'Ixtenco fue fundada por los caciques Juan Ponce de León, Francisco de Barba Torres y Paredes, Francis- co Contreras y Antonio Gómez Fabián, quienes pidieron al entonces virrey Antonio de Mendoza que les permitiera fundar un asentamiento en Tlaxcala, en las faldas de La Malinche; la autorización fue concedida siempre que dicho poblado llevara el nombre de San Juan Bautista, en honor de la esposa del gobernante, que se llamaba Juana. Debía asimismo construirse un templo donde se venerara al santo patrono. Otro de los requisitos para la fundación fue que en caso de que algún grupo indígena llegara hasta el poblado, se le otorgara un lugar donde pudiera vivir.', 'Así, la nueva población quedó formalmente establecida el 8 de enero de 1532 con el nombre oficial de San Juan Bautista Ixtenco.', 'La razón principal por la que se eligió la cercanía de las faldas de La Malinche para establecer el asen.'], ['Tierra de artistas.', 'San Bernardino Contla es tierra fértil. Aquí nació y vivió su infancia y juventud el gran pintor Desiderio Hernández Xochitiotzin, creador de los murales que adornan el Palacio de Gobierno en pleno centro de Tlaxcala.', 'La máquina que opera el joven artesano Cuamatzin es tan antigua como el arte textil de Tlaxcala. Todas las piezas principales del telar son de madera labrada a mano. El sonido rítmico del pedaleo produce una especie de música industrial muy grata que acompaña las horas de trabajo de este singular artesano, capturador de colores, tonos y matices.', 'Detrás de la máquina, las manos de Daniel, entrenadas para urdir tramas multicolores, dan vida todos los días a nuevos Saltillos de diferentes tamaños.', 'Quedan pocas industrias del tejido artesanal a la antigua usanza. Hace treinta o cuarenta años casi todas las familias de Contla tejían sarapes. Mientras se transmita el oficio de generación en generación y los niños lo aprendan y lo continúen, habrá artesanías textiles al.'], ['Tierra de artistas.', 'San Bernardino Contla es tierra fértil. Aquí nació y vivió su infancia y juventud el gran pintor Desiderio Hernández Xochitiotzin, creador de los murales que adornan el Palacio de Gobierno en pleno centro de Tlaxcala.', 'La máquina que opera el joven artesano Cuamatzin es tan antigua como el arte textil de Tlaxcala. Todas las piezas principales del telar son de madera labrada a mano. El sonido rítmico del pedaleo produce una especie de música industrial muy grata que acompaña las horas de trabajo de este singular artesano, capturador de colores, tonos y matices.', 'Detrás de la máquina, las manos de Daniel, entrenadas para urdir tramas multicolores, dan vida todos los días a nuevos Saltillos de diferentes tamaños.', 'Quedan pocas industrias del tejido artesanal a la antigua usanza. Hace treinta o cuarenta años casi todas las familias de Contla tejían sarapes. Mientras se transmita el oficio de generación en generación y los niños lo aprendan y lo continúen, habrá artesanías textiles al.']]\n"
     ]
    }
   ],
   "source": [
    "# Carga del texto 1\n",
    "# Abre el archivo en modo lectura\n",
    "with open('Texto2.txt', 'r',  encoding='utf-8-sig') as archivoI:\n",
    "    archivo1 = archivoI.readlines()\n",
    "archivo1 = [linea.rstrip() for linea in archivo1]\n",
    "print(archivo1)\n",
    "\n",
    "# Carga del texto 2\n",
    "with open('Texto3.txt', 'r',  encoding='utf-8-sig') as archivoII:\n",
    "    archivo2 = archivoII.readlines()\n",
    "archivo2 = [linea.rstrip() for linea in archivo2]\n",
    "print(archivo2)\n",
    "\n",
    "# Carga del texto 3\n",
    "with open('Texto4.txt', 'r',  encoding='utf-8-sig') as archivoIII:\n",
    "    archivo3 = archivoIII.readlines()\n",
    "archivo3 = [linea.rstrip() for linea in archivo3]\n",
    "print(archivo3)\n",
    "\n",
    "archivos = []\n",
    "archivos.append(archivo1)\n",
    "archivos.append(archivo2)\n",
    "archivos.append(archivo2)\n",
    "\n",
    "print(archivos)"
   ]
  },
  {
   "cell_type": "markdown",
   "metadata": {},
   "source": [
    "### 10 palabras que aparezcan en los tres textos"
   ]
  },
  {
   "cell_type": "code",
   "execution_count": 33,
   "metadata": {},
   "outputs": [
    {
     "ename": "AttributeError",
     "evalue": "'list' object has no attribute 'lower'",
     "output_type": "error",
     "traceback": [
      "\u001b[1;31m---------------------------------------------------------------------------\u001b[0m",
      "\u001b[1;31mAttributeError\u001b[0m                            Traceback (most recent call last)",
      "\u001b[1;32mc:\\Users\\chj06\\OneDrive\\Documents\\Escuela\\5_semestre\\Tecnologias_Lenguaje_Natural\\TLN\\P3\\Vale.ipynb Cell 6\u001b[0m line \u001b[0;36m5\n\u001b[0;32m      <a href='vscode-notebook-cell:/c%3A/Users/chj06/OneDrive/Documents/Escuela/5_semestre/Tecnologias_Lenguaje_Natural/TLN/P3/Vale.ipynb#W4sZmlsZQ%3D%3D?line=1'>2</a>\u001b[0m tfidf_vectorizer \u001b[39m=\u001b[39m TfidfVectorizer()\n\u001b[0;32m      <a href='vscode-notebook-cell:/c%3A/Users/chj06/OneDrive/Documents/Escuela/5_semestre/Tecnologias_Lenguaje_Natural/TLN/P3/Vale.ipynb#W4sZmlsZQ%3D%3D?line=3'>4</a>\u001b[0m \u001b[39m# Ajustar el vectorizador a la conleccion de documentos\u001b[39;00m\n\u001b[1;32m----> <a href='vscode-notebook-cell:/c%3A/Users/chj06/OneDrive/Documents/Escuela/5_semestre/Tecnologias_Lenguaje_Natural/TLN/P3/Vale.ipynb#W4sZmlsZQ%3D%3D?line=4'>5</a>\u001b[0m tfidf_vectorizer\u001b[39m.\u001b[39;49mfit(archivos)\n\u001b[0;32m      <a href='vscode-notebook-cell:/c%3A/Users/chj06/OneDrive/Documents/Escuela/5_semestre/Tecnologias_Lenguaje_Natural/TLN/P3/Vale.ipynb#W4sZmlsZQ%3D%3D?line=6'>7</a>\u001b[0m \u001b[39m# Obtener el IDF para el término \"documento\"\u001b[39;00m\n\u001b[0;32m      <a href='vscode-notebook-cell:/c%3A/Users/chj06/OneDrive/Documents/Escuela/5_semestre/Tecnologias_Lenguaje_Natural/TLN/P3/Vale.ipynb#W4sZmlsZQ%3D%3D?line=7'>8</a>\u001b[0m term \u001b[39m=\u001b[39m \u001b[39m\"\u001b[39m\u001b[39mes\u001b[39m\u001b[39m\"\u001b[39m\n",
      "File \u001b[1;32mc:\\Users\\chj06\\AppData\\Local\\Programs\\Python\\Python311\\Lib\\site-packages\\sklearn\\feature_extraction\\text.py:2103\u001b[0m, in \u001b[0;36mTfidfVectorizer.fit\u001b[1;34m(self, raw_documents, y)\u001b[0m\n\u001b[0;32m   2096\u001b[0m \u001b[39mself\u001b[39m\u001b[39m.\u001b[39m_warn_for_unused_params()\n\u001b[0;32m   2097\u001b[0m \u001b[39mself\u001b[39m\u001b[39m.\u001b[39m_tfidf \u001b[39m=\u001b[39m TfidfTransformer(\n\u001b[0;32m   2098\u001b[0m     norm\u001b[39m=\u001b[39m\u001b[39mself\u001b[39m\u001b[39m.\u001b[39mnorm,\n\u001b[0;32m   2099\u001b[0m     use_idf\u001b[39m=\u001b[39m\u001b[39mself\u001b[39m\u001b[39m.\u001b[39muse_idf,\n\u001b[0;32m   2100\u001b[0m     smooth_idf\u001b[39m=\u001b[39m\u001b[39mself\u001b[39m\u001b[39m.\u001b[39msmooth_idf,\n\u001b[0;32m   2101\u001b[0m     sublinear_tf\u001b[39m=\u001b[39m\u001b[39mself\u001b[39m\u001b[39m.\u001b[39msublinear_tf,\n\u001b[0;32m   2102\u001b[0m )\n\u001b[1;32m-> 2103\u001b[0m X \u001b[39m=\u001b[39m \u001b[39msuper\u001b[39;49m()\u001b[39m.\u001b[39;49mfit_transform(raw_documents)\n\u001b[0;32m   2104\u001b[0m \u001b[39mself\u001b[39m\u001b[39m.\u001b[39m_tfidf\u001b[39m.\u001b[39mfit(X)\n\u001b[0;32m   2105\u001b[0m \u001b[39mreturn\u001b[39;00m \u001b[39mself\u001b[39m\n",
      "File \u001b[1;32mc:\\Users\\chj06\\AppData\\Local\\Programs\\Python\\Python311\\Lib\\site-packages\\sklearn\\feature_extraction\\text.py:1388\u001b[0m, in \u001b[0;36mCountVectorizer.fit_transform\u001b[1;34m(self, raw_documents, y)\u001b[0m\n\u001b[0;32m   1380\u001b[0m             warnings\u001b[39m.\u001b[39mwarn(\n\u001b[0;32m   1381\u001b[0m                 \u001b[39m\"\u001b[39m\u001b[39mUpper case characters found in\u001b[39m\u001b[39m\"\u001b[39m\n\u001b[0;32m   1382\u001b[0m                 \u001b[39m\"\u001b[39m\u001b[39m vocabulary while \u001b[39m\u001b[39m'\u001b[39m\u001b[39mlowercase\u001b[39m\u001b[39m'\u001b[39m\u001b[39m\"\u001b[39m\n\u001b[0;32m   1383\u001b[0m                 \u001b[39m\"\u001b[39m\u001b[39m is True. These entries will not\u001b[39m\u001b[39m\"\u001b[39m\n\u001b[0;32m   1384\u001b[0m                 \u001b[39m\"\u001b[39m\u001b[39m be matched with any documents\u001b[39m\u001b[39m\"\u001b[39m\n\u001b[0;32m   1385\u001b[0m             )\n\u001b[0;32m   1386\u001b[0m             \u001b[39mbreak\u001b[39;00m\n\u001b[1;32m-> 1388\u001b[0m vocabulary, X \u001b[39m=\u001b[39m \u001b[39mself\u001b[39;49m\u001b[39m.\u001b[39;49m_count_vocab(raw_documents, \u001b[39mself\u001b[39;49m\u001b[39m.\u001b[39;49mfixed_vocabulary_)\n\u001b[0;32m   1390\u001b[0m \u001b[39mif\u001b[39;00m \u001b[39mself\u001b[39m\u001b[39m.\u001b[39mbinary:\n\u001b[0;32m   1391\u001b[0m     X\u001b[39m.\u001b[39mdata\u001b[39m.\u001b[39mfill(\u001b[39m1\u001b[39m)\n",
      "File \u001b[1;32mc:\\Users\\chj06\\AppData\\Local\\Programs\\Python\\Python311\\Lib\\site-packages\\sklearn\\feature_extraction\\text.py:1275\u001b[0m, in \u001b[0;36mCountVectorizer._count_vocab\u001b[1;34m(self, raw_documents, fixed_vocab)\u001b[0m\n\u001b[0;32m   1273\u001b[0m \u001b[39mfor\u001b[39;00m doc \u001b[39min\u001b[39;00m raw_documents:\n\u001b[0;32m   1274\u001b[0m     feature_counter \u001b[39m=\u001b[39m {}\n\u001b[1;32m-> 1275\u001b[0m     \u001b[39mfor\u001b[39;00m feature \u001b[39min\u001b[39;00m analyze(doc):\n\u001b[0;32m   1276\u001b[0m         \u001b[39mtry\u001b[39;00m:\n\u001b[0;32m   1277\u001b[0m             feature_idx \u001b[39m=\u001b[39m vocabulary[feature]\n",
      "File \u001b[1;32mc:\\Users\\chj06\\AppData\\Local\\Programs\\Python\\Python311\\Lib\\site-packages\\sklearn\\feature_extraction\\text.py:111\u001b[0m, in \u001b[0;36m_analyze\u001b[1;34m(doc, analyzer, tokenizer, ngrams, preprocessor, decoder, stop_words)\u001b[0m\n\u001b[0;32m    109\u001b[0m \u001b[39melse\u001b[39;00m:\n\u001b[0;32m    110\u001b[0m     \u001b[39mif\u001b[39;00m preprocessor \u001b[39mis\u001b[39;00m \u001b[39mnot\u001b[39;00m \u001b[39mNone\u001b[39;00m:\n\u001b[1;32m--> 111\u001b[0m         doc \u001b[39m=\u001b[39m preprocessor(doc)\n\u001b[0;32m    112\u001b[0m     \u001b[39mif\u001b[39;00m tokenizer \u001b[39mis\u001b[39;00m \u001b[39mnot\u001b[39;00m \u001b[39mNone\u001b[39;00m:\n\u001b[0;32m    113\u001b[0m         doc \u001b[39m=\u001b[39m tokenizer(doc)\n",
      "File \u001b[1;32mc:\\Users\\chj06\\AppData\\Local\\Programs\\Python\\Python311\\Lib\\site-packages\\sklearn\\feature_extraction\\text.py:69\u001b[0m, in \u001b[0;36m_preprocess\u001b[1;34m(doc, accent_function, lower)\u001b[0m\n\u001b[0;32m     50\u001b[0m \u001b[39m\u001b[39m\u001b[39m\"\"\"Chain together an optional series of text preprocessing steps to\u001b[39;00m\n\u001b[0;32m     51\u001b[0m \u001b[39mapply to a document.\u001b[39;00m\n\u001b[0;32m     52\u001b[0m \n\u001b[1;32m   (...)\u001b[0m\n\u001b[0;32m     66\u001b[0m \u001b[39m    preprocessed string\u001b[39;00m\n\u001b[0;32m     67\u001b[0m \u001b[39m\"\"\"\u001b[39;00m\n\u001b[0;32m     68\u001b[0m \u001b[39mif\u001b[39;00m lower:\n\u001b[1;32m---> 69\u001b[0m     doc \u001b[39m=\u001b[39m doc\u001b[39m.\u001b[39;49mlower()\n\u001b[0;32m     70\u001b[0m \u001b[39mif\u001b[39;00m accent_function \u001b[39mis\u001b[39;00m \u001b[39mnot\u001b[39;00m \u001b[39mNone\u001b[39;00m:\n\u001b[0;32m     71\u001b[0m     doc \u001b[39m=\u001b[39m accent_function(doc)\n",
      "\u001b[1;31mAttributeError\u001b[0m: 'list' object has no attribute 'lower'"
     ]
    }
   ],
   "source": [
    "# Inicializar el vectorizador TF-IDF\n",
    "tfidf_vectorizer = TfidfVectorizer()\n",
    "\n",
    "# Ajustar el vectorizador a la conleccion de documentos\n",
    "tfidf_vectorizer.fit(archivos)\n",
    "\n",
    "# Obtener el IDF para el término \"documento\"\n",
    "term = \"es\"\n",
    "idf = tfidf_vectorizer.idf_[tfidf_vectorizer.vocabulary_.get(term)]\n",
    "\n",
    "print(f\"IDF para'{term}': {idf}\")"
   ]
  }
 ],
 "metadata": {
  "kernelspec": {
   "display_name": "Python 3",
   "language": "python",
   "name": "python3"
  },
  "language_info": {
   "codemirror_mode": {
    "name": "ipython",
    "version": 3
   },
   "file_extension": ".py",
   "mimetype": "text/x-python",
   "name": "python",
   "nbconvert_exporter": "python",
   "pygments_lexer": "ipython3",
   "version": "3.11.1"
  }
 },
 "nbformat": 4,
 "nbformat_minor": 2
}
